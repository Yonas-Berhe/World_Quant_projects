{
 "cells": [
  {
   "cell_type": "code",
   "execution_count": 1,
   "metadata": {},
   "outputs": [],
   "source": [
    "import pandas as pd\n",
    "from pandas_datareader import data\n",
    "import numpy as np\n",
    "from scipy import stats\n",
    "import math\n",
    "from matplotlib import pyplot as plt"
   ]
  },
  {
   "cell_type": "markdown",
   "metadata": {},
   "source": [
    "# 1. Getting data "
   ]
  },
  {
   "cell_type": "code",
   "execution_count": 2,
   "metadata": {},
   "outputs": [],
   "source": [
    "# Set start and end dates\n",
    "start_date = '2016-01-01'\n",
    "end_date = '2020-12-31'"
   ]
  },
  {
   "cell_type": "code",
   "execution_count": 3,
   "metadata": {},
   "outputs": [
    {
     "data": {
      "text/html": [
       "<div>\n",
       "<style scoped>\n",
       "    .dataframe tbody tr th:only-of-type {\n",
       "        vertical-align: middle;\n",
       "    }\n",
       "\n",
       "    .dataframe tbody tr th {\n",
       "        vertical-align: top;\n",
       "    }\n",
       "\n",
       "    .dataframe thead th {\n",
       "        text-align: right;\n",
       "    }\n",
       "</style>\n",
       "<table border=\"1\" class=\"dataframe\">\n",
       "  <thead>\n",
       "    <tr style=\"text-align: right;\">\n",
       "      <th>Symbols</th>\n",
       "      <th>XLE</th>\n",
       "      <th>XLF</th>\n",
       "      <th>XLU</th>\n",
       "      <th>XLI</th>\n",
       "      <th>GDX</th>\n",
       "      <th>XLK</th>\n",
       "      <th>XLV</th>\n",
       "      <th>XLY</th>\n",
       "      <th>XLP</th>\n",
       "      <th>XLB</th>\n",
       "      <th>XOP</th>\n",
       "    </tr>\n",
       "    <tr>\n",
       "      <th>Date</th>\n",
       "      <th></th>\n",
       "      <th></th>\n",
       "      <th></th>\n",
       "      <th></th>\n",
       "      <th></th>\n",
       "      <th></th>\n",
       "      <th></th>\n",
       "      <th></th>\n",
       "      <th></th>\n",
       "      <th></th>\n",
       "      <th></th>\n",
       "    </tr>\n",
       "  </thead>\n",
       "  <tbody>\n",
       "    <tr>\n",
       "      <th>2016-01-04</th>\n",
       "      <td>60.299999</td>\n",
       "      <td>18.984566</td>\n",
       "      <td>43.189999</td>\n",
       "      <td>52.299999</td>\n",
       "      <td>14.09</td>\n",
       "      <td>42.270000</td>\n",
       "      <td>70.730003</td>\n",
       "      <td>76.820000</td>\n",
       "      <td>49.849998</td>\n",
       "      <td>42.740002</td>\n",
       "      <td>121.480003</td>\n",
       "    </tr>\n",
       "    <tr>\n",
       "      <th>2016-01-05</th>\n",
       "      <td>60.529999</td>\n",
       "      <td>19.057676</td>\n",
       "      <td>43.500000</td>\n",
       "      <td>52.439999</td>\n",
       "      <td>14.02</td>\n",
       "      <td>42.160000</td>\n",
       "      <td>71.070000</td>\n",
       "      <td>76.720001</td>\n",
       "      <td>50.169998</td>\n",
       "      <td>42.720001</td>\n",
       "      <td>121.080002</td>\n",
       "    </tr>\n",
       "    <tr>\n",
       "      <th>2016-01-06</th>\n",
       "      <td>58.200001</td>\n",
       "      <td>18.765232</td>\n",
       "      <td>43.419998</td>\n",
       "      <td>51.630001</td>\n",
       "      <td>14.25</td>\n",
       "      <td>41.639999</td>\n",
       "      <td>70.489998</td>\n",
       "      <td>75.970001</td>\n",
       "      <td>50.000000</td>\n",
       "      <td>41.599998</td>\n",
       "      <td>112.760002</td>\n",
       "    </tr>\n",
       "    <tr>\n",
       "      <th>2016-01-07</th>\n",
       "      <td>56.779999</td>\n",
       "      <td>18.237206</td>\n",
       "      <td>43.130001</td>\n",
       "      <td>50.230000</td>\n",
       "      <td>14.88</td>\n",
       "      <td>40.410000</td>\n",
       "      <td>69.059998</td>\n",
       "      <td>74.410004</td>\n",
       "      <td>49.400002</td>\n",
       "      <td>40.470001</td>\n",
       "      <td>109.959999</td>\n",
       "    </tr>\n",
       "    <tr>\n",
       "      <th>2016-01-08</th>\n",
       "      <td>56.049999</td>\n",
       "      <td>17.952885</td>\n",
       "      <td>43.110001</td>\n",
       "      <td>49.720001</td>\n",
       "      <td>14.52</td>\n",
       "      <td>40.090000</td>\n",
       "      <td>68.019997</td>\n",
       "      <td>73.610001</td>\n",
       "      <td>49.020000</td>\n",
       "      <td>40.060001</td>\n",
       "      <td>110.480003</td>\n",
       "    </tr>\n",
       "  </tbody>\n",
       "</table>\n",
       "</div>"
      ],
      "text/plain": [
       "Symbols           XLE        XLF        XLU        XLI    GDX        XLK  \\\n",
       "Date                                                                       \n",
       "2016-01-04  60.299999  18.984566  43.189999  52.299999  14.09  42.270000   \n",
       "2016-01-05  60.529999  19.057676  43.500000  52.439999  14.02  42.160000   \n",
       "2016-01-06  58.200001  18.765232  43.419998  51.630001  14.25  41.639999   \n",
       "2016-01-07  56.779999  18.237206  43.130001  50.230000  14.88  40.410000   \n",
       "2016-01-08  56.049999  17.952885  43.110001  49.720001  14.52  40.090000   \n",
       "\n",
       "Symbols           XLV        XLY        XLP        XLB         XOP  \n",
       "Date                                                                \n",
       "2016-01-04  70.730003  76.820000  49.849998  42.740002  121.480003  \n",
       "2016-01-05  71.070000  76.720001  50.169998  42.720001  121.080002  \n",
       "2016-01-06  70.489998  75.970001  50.000000  41.599998  112.760002  \n",
       "2016-01-07  69.059998  74.410004  49.400002  40.470001  109.959999  \n",
       "2016-01-08  68.019997  73.610001  49.020000  40.060001  110.480003  "
      ]
     },
     "execution_count": 3,
     "metadata": {},
     "output_type": "execute_result"
    }
   ],
   "source": [
    "df = data.get_data_yahoo([\"XLE\",\"XLF\",\"XLU\",\"XLI\",\"GDX\",\"XLK\",\"XLV\",\"XLY\",\"XLP\",\"XLB\",\"XOP\"], start_date, end_date)['Close']\n",
    "df.head()\n"
   ]
  },
  {
   "cell_type": "markdown",
   "metadata": {},
   "source": [
    "# 2. Data processing"
   ]
  },
  {
   "cell_type": "markdown",
   "metadata": {},
   "source": [
    "## 2.1. Select 2 of the Selected SPDR ETFs"
   ]
  },
  {
   "cell_type": "code",
   "execution_count": 4,
   "metadata": {},
   "outputs": [
    {
     "data": {
      "text/html": [
       "<div>\n",
       "<style scoped>\n",
       "    .dataframe tbody tr th:only-of-type {\n",
       "        vertical-align: middle;\n",
       "    }\n",
       "\n",
       "    .dataframe tbody tr th {\n",
       "        vertical-align: top;\n",
       "    }\n",
       "\n",
       "    .dataframe thead th {\n",
       "        text-align: right;\n",
       "    }\n",
       "</style>\n",
       "<table border=\"1\" class=\"dataframe\">\n",
       "  <thead>\n",
       "    <tr style=\"text-align: right;\">\n",
       "      <th>Symbols</th>\n",
       "      <th>GDX</th>\n",
       "      <th>XLB</th>\n",
       "    </tr>\n",
       "    <tr>\n",
       "      <th>Date</th>\n",
       "      <th></th>\n",
       "      <th></th>\n",
       "    </tr>\n",
       "  </thead>\n",
       "  <tbody>\n",
       "    <tr>\n",
       "      <th>2016-01-04</th>\n",
       "      <td>14.09</td>\n",
       "      <td>42.740002</td>\n",
       "    </tr>\n",
       "    <tr>\n",
       "      <th>2016-01-05</th>\n",
       "      <td>14.02</td>\n",
       "      <td>42.720001</td>\n",
       "    </tr>\n",
       "    <tr>\n",
       "      <th>2016-01-06</th>\n",
       "      <td>14.25</td>\n",
       "      <td>41.599998</td>\n",
       "    </tr>\n",
       "    <tr>\n",
       "      <th>2016-01-07</th>\n",
       "      <td>14.88</td>\n",
       "      <td>40.470001</td>\n",
       "    </tr>\n",
       "    <tr>\n",
       "      <th>2016-01-08</th>\n",
       "      <td>14.52</td>\n",
       "      <td>40.060001</td>\n",
       "    </tr>\n",
       "  </tbody>\n",
       "</table>\n",
       "</div>"
      ],
      "text/plain": [
       "Symbols       GDX        XLB\n",
       "Date                        \n",
       "2016-01-04  14.09  42.740002\n",
       "2016-01-05  14.02  42.720001\n",
       "2016-01-06  14.25  41.599998\n",
       "2016-01-07  14.88  40.470001\n",
       "2016-01-08  14.52  40.060001"
      ]
     },
     "execution_count": 4,
     "metadata": {},
     "output_type": "execute_result"
    }
   ],
   "source": [
    "portfolio = df[['GDX','XLB']]\n",
    "portfolio.head()"
   ]
  },
  {
   "cell_type": "markdown",
   "metadata": {},
   "source": [
    "## 2.2. Standard deviation of the securities "
   ]
  },
  {
   "cell_type": "code",
   "execution_count": 5,
   "metadata": {},
   "outputs": [],
   "source": [
    "returns = portfolio.pct_change().dropna()\n",
    "standev = returns.std()"
   ]
  },
  {
   "cell_type": "markdown",
   "metadata": {},
   "source": [
    "## 2.3. Correlation of the securities "
   ]
  },
  {
   "cell_type": "code",
   "execution_count": 6,
   "metadata": {},
   "outputs": [
    {
     "data": {
      "text/plain": [
       "0.1801865974299177"
      ]
     },
     "execution_count": 6,
     "metadata": {},
     "output_type": "execute_result"
    }
   ],
   "source": [
    "corr = returns.corr(method='pearson', min_periods=1).iloc[0,1]\n",
    "corr"
   ]
  },
  {
   "cell_type": "markdown",
   "metadata": {},
   "source": [
    "## 2.4. Function to compute the portfolio return "
   ]
  },
  {
   "cell_type": "code",
   "execution_count": 7,
   "metadata": {},
   "outputs": [],
   "source": [
    "# For 2 securities\n",
    "def portreturn(df_returns, w, period):\n",
    "    total_returns = ((1+df_returns).product())**(period)-1\n",
    "    PortfolioReturn = w*total_returns[0]+(1-w)*total_returns[1]\n",
    "    return(PortfolioReturn)\n",
    "\n",
    "# For 2 or more securities\n",
    "def portreturn_2(df_returns, w, period):\n",
    "    return np.sum(np.multiply((1+df_returns).product()**(period)-1, np.array(w)))\n"
   ]
  },
  {
   "cell_type": "code",
   "execution_count": 8,
   "metadata": {},
   "outputs": [
    {
     "name": "stdout",
     "output_type": "stream",
     "text": [
      "annualised return (in %):  15.88189450575629\n",
      "overall return (5 year in %):  108.96710854121432\n"
     ]
    }
   ],
   "source": [
    "an_port_return = portreturn_2(returns,[0.5,0.5],1/5)*100\n",
    "print(\"annualised return (in %): \", an_port_return)\n",
    "overall_port_return = ((1+an_port_return/100)**(5)-1)*100\n",
    "print(\"overall return (5 year in %): \", overall_port_return)"
   ]
  },
  {
   "cell_type": "markdown",
   "metadata": {},
   "source": [
    "## 2.5. Function to compute the portfolio standard deviation "
   ]
  },
  {
   "cell_type": "code",
   "execution_count": 9,
   "metadata": {},
   "outputs": [],
   "source": [
    "# For exactly 2 securities\n",
    "def portstd(df_returns, corr, w1):\n",
    "    stand = df_returns.std()\n",
    "    sd1 = stand[0]\n",
    "    sd2 = stand[1]\n",
    "    w2 = 1-w1\n",
    "    var = (w1**2)*sd1**2 + (w2**2)*sd2**2 + 2*(w1*w2)*corr*sd1*sd2\n",
    "    standev = math.sqrt(var)\n",
    "    return(standev)*np.sqrt(252)\n",
    "\n",
    "# For 2 or more securities\n",
    "def portstd_2(df_returns, weights):\n",
    "    covar = df_returns.cov()\n",
    "    weights = np.array(weights)\n",
    "    return np.sqrt(np.dot(weights.T,np.dot(covar,weights)))*np.sqrt(252)"
   ]
  },
  {
   "cell_type": "code",
   "execution_count": 10,
   "metadata": {},
   "outputs": [
    {
     "name": "stdout",
     "output_type": "stream",
     "text": [
      "std of daily returns (in %):  1.5604790630210517\n",
      "annualised std of returns (in %) 24.77183716126075\n"
     ]
    }
   ],
   "source": [
    "an_port_std = portstd_2(returns,[0.5,0.5])*100\n",
    "daily_port_std = an_port_std/np.sqrt(252)\n",
    "print(\"std of daily returns (in %): \", daily_port_std)\n",
    "print(\"annualised std of returns (in %)\", an_port_std)"
   ]
  },
  {
   "cell_type": "markdown",
   "metadata": {},
   "source": [
    "# 3. Category 1 Portfolio: 2 sectors"
   ]
  },
  {
   "cell_type": "markdown",
   "metadata": {},
   "source": [
    "## 3.1. Function to show the portfolio efficient frontier (EF) "
   ]
  },
  {
   "cell_type": "code",
   "execution_count": 11,
   "metadata": {},
   "outputs": [],
   "source": [
    "def PlotEF(returns, corr, period):\n",
    "    ReturnsMat = []\n",
    "    StdMat = []\n",
    "\n",
    "    for weight in range(0,100, 1):\n",
    "        ReturnsMat.append(portreturn(returns, weight/100,period))\n",
    "        StdMat.append(portstd(returns, corr, weight/100))\n",
    "    plt.plot(StdMat,ReturnsMat)\n",
    "    plt.xlabel(\"Portfolio standard deviations\")\n",
    "    plt.ylabel(\"Portfolio returns\")\n",
    "    plt.title('Portfolio Efficient Frontier')\n",
    "    plt.show()"
   ]
  },
  {
   "cell_type": "code",
   "execution_count": 12,
   "metadata": {},
   "outputs": [
    {
     "data": {
      "image/png": "[encoded data removed]",
      "text/plain": [
       "<Figure size 432x288 with 1 Axes>"
      ]
     },
     "metadata": {
      "needs_background": "light"
     },
     "output_type": "display_data"
    }
   ],
   "source": [
    "PlotEF(returns, corr,1/5)"
   ]
  },
  {
   "cell_type": "markdown",
   "metadata": {},
   "source": [
    "## 3.2. The point to the far left "
   ]
  },
  {
   "cell_type": "markdown",
   "metadata": {},
   "source": [
    "The point to the far left is called the Global Minimum Variance Portfolio (GMVP). As the name indicates, this is the portfolio for which the variance is minimal on the efficient frontier."
   ]
  },
  {
   "cell_type": "markdown",
   "metadata": {},
   "source": [
    "## 3.3. EF with correlation = -1 "
   ]
  },
  {
   "cell_type": "code",
   "execution_count": 13,
   "metadata": {},
   "outputs": [
    {
     "data": {
      "image/png": "[encoded data removed]",
      "text/plain": [
       "<Figure size 432x288 with 1 Axes>"
      ]
     },
     "metadata": {
      "needs_background": "light"
     },
     "output_type": "display_data"
    }
   ],
   "source": [
    "PlotEF(returns, -1, 1/5)"
   ]
  },
  {
   "cell_type": "markdown",
   "metadata": {},
   "source": [
    "If the two securities are perfectly negatively correlated (corr = -1) then we can effectively remove any risk in the form of portfolio volatility while maintaining a positive return. This is an arbitrage opportunity as we ensure positive return with zero risk."
   ]
  },
  {
   "cell_type": "markdown",
   "metadata": {},
   "source": [
    "## 3.4. EF with correlation = 0 "
   ]
  },
  {
   "cell_type": "code",
   "execution_count": 14,
   "metadata": {},
   "outputs": [
    {
     "data": {
      "image/png": "[encoded data removed]",
      "text/plain": [
       "<Figure size 432x288 with 1 Axes>"
      ]
     },
     "metadata": {
      "needs_background": "light"
     },
     "output_type": "display_data"
    }
   ],
   "source": [
    "PlotEF(returns, 0,1/5)"
   ]
  },
  {
   "cell_type": "markdown",
   "metadata": {},
   "source": [
    "For corr = 0, the securities have no correlation. Compared to the 0.18 correlation computed above, this correlation allow us to get the same portfolio return for a reduced risk as measured by the portfolio volatility."
   ]
  },
  {
   "cell_type": "markdown",
   "metadata": {},
   "source": [
    "## 3.5. EF with correlation = 1 "
   ]
  },
  {
   "cell_type": "code",
   "execution_count": 15,
   "metadata": {},
   "outputs": [
    {
     "data": {
      "image/png": "[encoded data removed]",
      "text/plain": [
       "<Figure size 432x288 with 1 Axes>"
      ]
     },
     "metadata": {
      "needs_background": "light"
     },
     "output_type": "display_data"
    }
   ],
   "source": [
    "PlotEF(returns, 1,1/5)"
   ]
  },
  {
   "cell_type": "markdown",
   "metadata": {},
   "source": [
    "For perfectly correlated securities (corr = 1), we essentially are investing in the same securities but scaled differently. We have a linear relationship between these two securities, which explains the straight line observed above."
   ]
  },
  {
   "cell_type": "markdown",
   "metadata": {},
   "source": [
    "## 3.6. Apply 5% trim to the data.  Recompute the correlation.  Rerun the EF.   "
   ]
  },
  {
   "cell_type": "code",
   "execution_count": 16,
   "metadata": {
    "scrolled": true
   },
   "outputs": [
    {
     "data": {
      "image/png": "[encoded data removed]",
      "text/plain": [
       "<Figure size 432x288 with 1 Axes>"
      ]
     },
     "metadata": {
      "needs_background": "light"
     },
     "output_type": "display_data"
    }
   ],
   "source": [
    "quantiles = returns.quantile([0.025, 0.975])\n",
    "returns_trimmed = returns.apply(lambda x: x[(x>quantiles.loc[0.025,x.name]) & \n",
    "                                    (x < quantiles.loc[0.975,x.name])]).dropna()\n",
    "\n",
    "corr = returns_trimmed.corr(method='pearson', min_periods=1).iloc[0,1]\n",
    "\n",
    "PlotEF(returns_trimmed, corr, 1/5)"
   ]
  },
  {
   "cell_type": "code",
   "execution_count": 17,
   "metadata": {},
   "outputs": [
    {
     "name": "stdout",
     "output_type": "stream",
     "text": [
      "annualised return (in %):  21.392341464253317\n",
      "annualised std of returns (in %):  16.55161024147963\n"
     ]
    }
   ],
   "source": [
    "an_port_return_trim = portreturn_2(returns_trimmed,[0.5,0.5],1/5)*100\n",
    "print(\"annualised return (in %): \", an_port_return_trim)\n",
    "an_port_std_trim = portstd_2(returns_trimmed,[0.5,0.5])*100\n",
    "print(\"annualised std of returns (in %): \", an_port_std_trim)"
   ]
  },
  {
   "cell_type": "markdown",
   "metadata": {},
   "source": [
    "When we trim the 5% most extreme returns, we effectvely remove some of the volatility (ie. risk) from our portfolio. This is shown by the graph above where the overall minimum portfolio volatility at the GMVP is much lower. Moreover the annualised std of returns is lower than for the non-trimmed portfolio (16.55% vs 24.77%). We also increase the annualised return from the portfolio (21.73% vs 15.88%)."
   ]
  },
  {
   "cell_type": "markdown",
   "metadata": {},
   "source": [
    "## 3.8\tUse a robust method of portfolio (see FRAPO R Library or pyportfolioopt Python module, for example).  \n",
    " "
   ]
  },
  {
   "cell_type": "code",
   "execution_count": 18,
   "metadata": {},
   "outputs": [],
   "source": [
    "#!pip install PyPortfolioOpt"
   ]
  },
  {
   "cell_type": "code",
   "execution_count": 19,
   "metadata": {},
   "outputs": [],
   "source": [
    "from pypfopt.efficient_frontier import EfficientFrontier\n",
    "from pypfopt import risk_models\n",
    "from pypfopt import expected_returns\n",
    "from matplotlib.ticker import FuncFormatter"
   ]
  },
  {
   "cell_type": "code",
   "execution_count": 20,
   "metadata": {},
   "outputs": [],
   "source": [
    "def FigPortFolioopt(returns_df, min_vol):\n",
    "\n",
    "    mu = expected_returns.mean_historical_return(returns_df,returns_data=True)\n",
    "    S = risk_models.sample_cov(returns_df,returns_data=True)\n",
    "\n",
    "    results_opt = pd.DataFrame(columns = [\"weights\",\"returns\",\"std\",\"sharpe\"])\n",
    "\n",
    "    for vol in np.linspace(min_vol, 0.6, 1000):\n",
    "        ef = EfficientFrontier(mu, S,  weight_bounds=(0, 1))\n",
    "        ef.efficient_risk(vol)\n",
    "        results_opt.loc[vol,\"weights\"] = ef.clean_weights().values()\n",
    "        results_opt.loc[vol,\"returns\"], results_opt.loc[vol,\"std\"], results_opt.loc[vol,\"sharpe\"] = ef.portfolio_performance()\n",
    "    \n",
    "    plt.plot(results_opt[\"std\"], results_opt[\"returns\"])\n",
    "    plt.xlabel(\"Portfolio standard deviations\")\n",
    "    plt.ylabel(\"Portfolio returns\")\n",
    "    plt.title('Portfolio Efficient Frontier')\n",
    "    plt.show()\n",
    "    return (results_opt)"
   ]
  },
  {
   "cell_type": "code",
   "execution_count": 21,
   "metadata": {},
   "outputs": [
    {
     "data": {
      "image/png": "[encoded data removed]",
      "text/plain": [
       "<Figure size 432x288 with 1 Axes>"
      ]
     },
     "metadata": {
      "needs_background": "light"
     },
     "output_type": "display_data"
    },
    {
     "data": {
      "text/html": [
       "<div>\n",
       "<style scoped>\n",
       "    .dataframe tbody tr th:only-of-type {\n",
       "        vertical-align: middle;\n",
       "    }\n",
       "\n",
       "    .dataframe tbody tr th {\n",
       "        vertical-align: top;\n",
       "    }\n",
       "\n",
       "    .dataframe thead th {\n",
       "        text-align: right;\n",
       "    }\n",
       "</style>\n",
       "<table border=\"1\" class=\"dataframe\">\n",
       "  <thead>\n",
       "    <tr style=\"text-align: right;\">\n",
       "      <th></th>\n",
       "      <th>weights</th>\n",
       "      <th>returns</th>\n",
       "      <th>std</th>\n",
       "      <th>sharpe</th>\n",
       "    </tr>\n",
       "  </thead>\n",
       "  <tbody>\n",
       "    <tr>\n",
       "      <th>0.224709</th>\n",
       "      <td>(0.37936, 0.62064)</td>\n",
       "      <td>0.147567</td>\n",
       "      <td>0.224709</td>\n",
       "      <td>0.567697</td>\n",
       "    </tr>\n",
       "    <tr>\n",
       "      <th>0.225085</th>\n",
       "      <td>(0.38181, 0.61819)</td>\n",
       "      <td>0.147802</td>\n",
       "      <td>0.225085</td>\n",
       "      <td>0.567792</td>\n",
       "    </tr>\n",
       "    <tr>\n",
       "      <th>0.225461</th>\n",
       "      <td>(0.38424, 0.61576)</td>\n",
       "      <td>0.148034</td>\n",
       "      <td>0.225461</td>\n",
       "      <td>0.567875</td>\n",
       "    </tr>\n",
       "    <tr>\n",
       "      <th>0.225836</th>\n",
       "      <td>(0.38665, 0.61335)</td>\n",
       "      <td>0.148263</td>\n",
       "      <td>0.225836</td>\n",
       "      <td>0.567947</td>\n",
       "    </tr>\n",
       "    <tr>\n",
       "      <th>0.226212</th>\n",
       "      <td>(0.38902, 0.61098)</td>\n",
       "      <td>0.14849</td>\n",
       "      <td>0.226212</td>\n",
       "      <td>0.568008</td>\n",
       "    </tr>\n",
       "    <tr>\n",
       "      <th>...</th>\n",
       "      <td>...</td>\n",
       "      <td>...</td>\n",
       "      <td>...</td>\n",
       "      <td>...</td>\n",
       "    </tr>\n",
       "    <tr>\n",
       "      <th>0.598497</th>\n",
       "      <td>(1.0, 0.0)</td>\n",
       "      <td>0.206858</td>\n",
       "      <td>0.402909</td>\n",
       "      <td>0.463772</td>\n",
       "    </tr>\n",
       "    <tr>\n",
       "      <th>0.598873</th>\n",
       "      <td>(1.0, 0.0)</td>\n",
       "      <td>0.206858</td>\n",
       "      <td>0.402909</td>\n",
       "      <td>0.463772</td>\n",
       "    </tr>\n",
       "    <tr>\n",
       "      <th>0.599249</th>\n",
       "      <td>(1.0, 0.0)</td>\n",
       "      <td>0.206858</td>\n",
       "      <td>0.402909</td>\n",
       "      <td>0.463772</td>\n",
       "    </tr>\n",
       "    <tr>\n",
       "      <th>0.599624</th>\n",
       "      <td>(1.0, 0.0)</td>\n",
       "      <td>0.206858</td>\n",
       "      <td>0.402909</td>\n",
       "      <td>0.463772</td>\n",
       "    </tr>\n",
       "    <tr>\n",
       "      <th>0.600000</th>\n",
       "      <td>(1.0, 0.0)</td>\n",
       "      <td>0.206858</td>\n",
       "      <td>0.402909</td>\n",
       "      <td>0.463772</td>\n",
       "    </tr>\n",
       "  </tbody>\n",
       "</table>\n",
       "<p>1000 rows × 4 columns</p>\n",
       "</div>"
      ],
      "text/plain": [
       "                     weights   returns       std    sharpe\n",
       "0.224709  (0.37936, 0.62064)  0.147567  0.224709  0.567697\n",
       "0.225085  (0.38181, 0.61819)  0.147802  0.225085  0.567792\n",
       "0.225461  (0.38424, 0.61576)  0.148034  0.225461  0.567875\n",
       "0.225836  (0.38665, 0.61335)  0.148263  0.225836  0.567947\n",
       "0.226212  (0.38902, 0.61098)   0.14849  0.226212  0.568008\n",
       "...                      ...       ...       ...       ...\n",
       "0.598497          (1.0, 0.0)  0.206858  0.402909  0.463772\n",
       "0.598873          (1.0, 0.0)  0.206858  0.402909  0.463772\n",
       "0.599249          (1.0, 0.0)  0.206858  0.402909  0.463772\n",
       "0.599624          (1.0, 0.0)  0.206858  0.402909  0.463772\n",
       "0.600000          (1.0, 0.0)  0.206858  0.402909  0.463772\n",
       "\n",
       "[1000 rows x 4 columns]"
      ]
     },
     "execution_count": 21,
     "metadata": {},
     "output_type": "execute_result"
    }
   ],
   "source": [
    "res_2S = FigPortFolioopt(returns, min(returns.std()*np.sqrt(252)))\n",
    "res_2S"
   ]
  },
  {
   "cell_type": "code",
   "execution_count": 22,
   "metadata": {},
   "outputs": [
    {
     "data": {
      "text/html": [
       "<div>\n",
       "<style scoped>\n",
       "    .dataframe tbody tr th:only-of-type {\n",
       "        vertical-align: middle;\n",
       "    }\n",
       "\n",
       "    .dataframe tbody tr th {\n",
       "        vertical-align: top;\n",
       "    }\n",
       "\n",
       "    .dataframe thead th {\n",
       "        text-align: right;\n",
       "    }\n",
       "</style>\n",
       "<table border=\"1\" class=\"dataframe\">\n",
       "  <thead>\n",
       "    <tr style=\"text-align: right;\">\n",
       "      <th></th>\n",
       "      <th>weights</th>\n",
       "      <th>returns</th>\n",
       "      <th>std</th>\n",
       "      <th>sharpe</th>\n",
       "    </tr>\n",
       "  </thead>\n",
       "  <tbody>\n",
       "    <tr>\n",
       "      <th>0.247625</th>\n",
       "      <td>(0.49959, 0.50041)</td>\n",
       "      <td>0.159053</td>\n",
       "      <td>0.247625</td>\n",
       "      <td>0.561545</td>\n",
       "    </tr>\n",
       "    <tr>\n",
       "      <th>0.248001</th>\n",
       "      <td>(0.50125, 0.49875)</td>\n",
       "      <td>0.159211</td>\n",
       "      <td>0.248001</td>\n",
       "      <td>0.561335</td>\n",
       "    </tr>\n",
       "    <tr>\n",
       "      <th>0.248376</th>\n",
       "      <td>(0.50291, 0.49709)</td>\n",
       "      <td>0.159370</td>\n",
       "      <td>0.248376</td>\n",
       "      <td>0.561123</td>\n",
       "    </tr>\n",
       "  </tbody>\n",
       "</table>\n",
       "</div>"
      ],
      "text/plain": [
       "                     weights   returns       std    sharpe\n",
       "0.247625  (0.49959, 0.50041)  0.159053  0.247625  0.561545\n",
       "0.248001  (0.50125, 0.49875)  0.159211  0.248001  0.561335\n",
       "0.248376  (0.50291, 0.49709)  0.159370  0.248376  0.561123"
      ]
     },
     "execution_count": 22,
     "metadata": {},
     "output_type": "execute_result"
    }
   ],
   "source": [
    "res_2S = res_2S.astype({\"returns\": 'float',\"std\": 'float',\"sharpe\": 'float'})\n",
    "res_2S[res_2S['std'].round(3) == 0.248 ]"
   ]
  },
  {
   "cell_type": "markdown",
   "metadata": {},
   "source": [
    "## 3.9\tState the equation(s) of how this works.  Write a paragraph explaining how it works.  "
   ]
  },
  {
   "cell_type": "markdown",
   "metadata": {},
   "source": [
    "The robust method of portfolio refers to the concept of mean variance optimization. This is a mathematical application of a convex optimization problem in  finance by exploring different combination of return and risk on the curve in order to get an optimal point that fulfills a given objective. A convex problem has the following form:"
   ]
  },
  {
   "cell_type": "code",
   "execution_count": 23,
   "metadata": {},
   "outputs": [
    {
     "data": {
      "image/png": "[encoded data removed]",
      "text/plain": [
       "<IPython.core.display.Image object>"
      ]
     },
     "metadata": {},
     "output_type": "display_data"
    }
   ],
   "source": [
    "from IPython.display import Image \n",
    "pil_img = Image(filename='equ.png')\n",
    "display(pil_img) "
   ]
  },
  {
   "cell_type": "markdown",
   "metadata": {},
   "source": [
    "This works similar to any optimization problem by defining a specific object, such as in this case maximizing a portfolio’s return and given a constrain such as a certain level of risk. This could also go the other way around by assigning the object as minimizing the level of volatility or risk with respect to a certain level of return. This process can be implemented using the  PyPortfolioOpt on python. The main advantage is that the implementation can be carried out easily and the package allows to add additional objectives.  "
   ]
  },
  {
   "cell_type": "markdown",
   "metadata": {},
   "source": [
    "## 3.10.\tHow does this EF compare with the other 2 "
   ]
  },
  {
   "cell_type": "markdown",
   "metadata": {},
   "source": [
    "Here, for the same level of risk (volatility = 24.77%) we find that the optimised portfolio offers a slightly better return using weights that are slightly tweaked but close to 0.5. Using the efficient frontier plotted we can adjust the portfolio depending on preferences in terms of risk/reward."
   ]
  },
  {
   "cell_type": "markdown",
   "metadata": {},
   "source": [
    "# 4\tCategory 2 Portfolio: 3 Sectors\n",
    "## 4.1\tAdd 1 ETF to your portfolio.  Calculate the correlation matrix for 3 ETFs chosen.  \n",
    "\n",
    " "
   ]
  },
  {
   "cell_type": "code",
   "execution_count": 24,
   "metadata": {},
   "outputs": [
    {
     "data": {
      "text/html": [
       "<div>\n",
       "<style scoped>\n",
       "    .dataframe tbody tr th:only-of-type {\n",
       "        vertical-align: middle;\n",
       "    }\n",
       "\n",
       "    .dataframe tbody tr th {\n",
       "        vertical-align: top;\n",
       "    }\n",
       "\n",
       "    .dataframe thead th {\n",
       "        text-align: right;\n",
       "    }\n",
       "</style>\n",
       "<table border=\"1\" class=\"dataframe\">\n",
       "  <thead>\n",
       "    <tr style=\"text-align: right;\">\n",
       "      <th>Symbols</th>\n",
       "      <th>GDX</th>\n",
       "      <th>XLB</th>\n",
       "    </tr>\n",
       "    <tr>\n",
       "      <th>Date</th>\n",
       "      <th></th>\n",
       "      <th></th>\n",
       "    </tr>\n",
       "  </thead>\n",
       "  <tbody>\n",
       "    <tr>\n",
       "      <th>2016-01-04</th>\n",
       "      <td>14.09</td>\n",
       "      <td>42.740002</td>\n",
       "    </tr>\n",
       "    <tr>\n",
       "      <th>2016-01-05</th>\n",
       "      <td>14.02</td>\n",
       "      <td>42.720001</td>\n",
       "    </tr>\n",
       "    <tr>\n",
       "      <th>2016-01-06</th>\n",
       "      <td>14.25</td>\n",
       "      <td>41.599998</td>\n",
       "    </tr>\n",
       "    <tr>\n",
       "      <th>2016-01-07</th>\n",
       "      <td>14.88</td>\n",
       "      <td>40.470001</td>\n",
       "    </tr>\n",
       "    <tr>\n",
       "      <th>2016-01-08</th>\n",
       "      <td>14.52</td>\n",
       "      <td>40.060001</td>\n",
       "    </tr>\n",
       "  </tbody>\n",
       "</table>\n",
       "</div>"
      ],
      "text/plain": [
       "Symbols       GDX        XLB\n",
       "Date                        \n",
       "2016-01-04  14.09  42.740002\n",
       "2016-01-05  14.02  42.720001\n",
       "2016-01-06  14.25  41.599998\n",
       "2016-01-07  14.88  40.470001\n",
       "2016-01-08  14.52  40.060001"
      ]
     },
     "execution_count": 24,
     "metadata": {},
     "output_type": "execute_result"
    }
   ],
   "source": [
    "portfolio3S = df[['GDX','XLB', 'XLU']]\n",
    "portfolio.head()"
   ]
  },
  {
   "cell_type": "code",
   "execution_count": 25,
   "metadata": {},
   "outputs": [
    {
     "data": {
      "text/html": [
       "<div>\n",
       "<style scoped>\n",
       "    .dataframe tbody tr th:only-of-type {\n",
       "        vertical-align: middle;\n",
       "    }\n",
       "\n",
       "    .dataframe tbody tr th {\n",
       "        vertical-align: top;\n",
       "    }\n",
       "\n",
       "    .dataframe thead th {\n",
       "        text-align: right;\n",
       "    }\n",
       "</style>\n",
       "<table border=\"1\" class=\"dataframe\">\n",
       "  <thead>\n",
       "    <tr style=\"text-align: right;\">\n",
       "      <th>Symbols</th>\n",
       "      <th>GDX</th>\n",
       "      <th>XLB</th>\n",
       "      <th>XLU</th>\n",
       "    </tr>\n",
       "    <tr>\n",
       "      <th>Symbols</th>\n",
       "      <th></th>\n",
       "      <th></th>\n",
       "      <th></th>\n",
       "    </tr>\n",
       "  </thead>\n",
       "  <tbody>\n",
       "    <tr>\n",
       "      <th>GDX</th>\n",
       "      <td>1.000000</td>\n",
       "      <td>0.180187</td>\n",
       "      <td>0.196241</td>\n",
       "    </tr>\n",
       "    <tr>\n",
       "      <th>XLB</th>\n",
       "      <td>0.180187</td>\n",
       "      <td>1.000000</td>\n",
       "      <td>0.554393</td>\n",
       "    </tr>\n",
       "    <tr>\n",
       "      <th>XLU</th>\n",
       "      <td>0.196241</td>\n",
       "      <td>0.554393</td>\n",
       "      <td>1.000000</td>\n",
       "    </tr>\n",
       "  </tbody>\n",
       "</table>\n",
       "</div>"
      ],
      "text/plain": [
       "Symbols       GDX       XLB       XLU\n",
       "Symbols                              \n",
       "GDX      1.000000  0.180187  0.196241\n",
       "XLB      0.180187  1.000000  0.554393\n",
       "XLU      0.196241  0.554393  1.000000"
      ]
     },
     "execution_count": 25,
     "metadata": {},
     "output_type": "execute_result"
    }
   ],
   "source": [
    "returns3S = portfolio3S.pct_change().dropna()\n",
    "corr3S = returns3S.corr()\n",
    "corr3S"
   ]
  },
  {
   "cell_type": "markdown",
   "metadata": {},
   "source": [
    "## 4.2\tGraph the efficient frontier of this 3-security portfolio.\n",
    " "
   ]
  },
  {
   "cell_type": "code",
   "execution_count": 26,
   "metadata": {},
   "outputs": [
    {
     "data": {
      "image/png": "[encoded data removed]",
      "text/plain": [
       "<Figure size 432x288 with 1 Axes>"
      ]
     },
     "metadata": {
      "needs_background": "light"
     },
     "output_type": "display_data"
    },
    {
     "data": {
      "text/html": [
       "<div>\n",
       "<style scoped>\n",
       "    .dataframe tbody tr th:only-of-type {\n",
       "        vertical-align: middle;\n",
       "    }\n",
       "\n",
       "    .dataframe tbody tr th {\n",
       "        vertical-align: top;\n",
       "    }\n",
       "\n",
       "    .dataframe thead th {\n",
       "        text-align: right;\n",
       "    }\n",
       "</style>\n",
       "<table border=\"1\" class=\"dataframe\">\n",
       "  <thead>\n",
       "    <tr style=\"text-align: right;\">\n",
       "      <th></th>\n",
       "      <th>weights</th>\n",
       "      <th>returns</th>\n",
       "      <th>std</th>\n",
       "      <th>sharpe</th>\n",
       "    </tr>\n",
       "  </thead>\n",
       "  <tbody>\n",
       "    <tr>\n",
       "      <th>0.209933</th>\n",
       "      <td>(0.33297, 0.52959, 0.13744)</td>\n",
       "      <td>0.13849</td>\n",
       "      <td>0.209933</td>\n",
       "      <td>0.564416</td>\n",
       "    </tr>\n",
       "    <tr>\n",
       "      <th>0.210324</th>\n",
       "      <td>(0.3347, 0.53086, 0.13444)</td>\n",
       "      <td>0.138757</td>\n",
       "      <td>0.210324</td>\n",
       "      <td>0.564639</td>\n",
       "    </tr>\n",
       "    <tr>\n",
       "      <th>0.210714</th>\n",
       "      <td>(0.33642, 0.53214, 0.13144)</td>\n",
       "      <td>0.139023</td>\n",
       "      <td>0.210714</td>\n",
       "      <td>0.564853</td>\n",
       "    </tr>\n",
       "    <tr>\n",
       "      <th>0.211105</th>\n",
       "      <td>(0.33814, 0.53338, 0.12848)</td>\n",
       "      <td>0.139287</td>\n",
       "      <td>0.211105</td>\n",
       "      <td>0.565059</td>\n",
       "    </tr>\n",
       "    <tr>\n",
       "      <th>0.211495</th>\n",
       "      <td>(0.33984, 0.53463, 0.12553)</td>\n",
       "      <td>0.139549</td>\n",
       "      <td>0.211495</td>\n",
       "      <td>0.565256</td>\n",
       "    </tr>\n",
       "    <tr>\n",
       "      <th>...</th>\n",
       "      <td>...</td>\n",
       "      <td>...</td>\n",
       "      <td>...</td>\n",
       "      <td>...</td>\n",
       "    </tr>\n",
       "    <tr>\n",
       "      <th>0.598438</th>\n",
       "      <td>(1.0, 0.0, 0.0)</td>\n",
       "      <td>0.206858</td>\n",
       "      <td>0.402909</td>\n",
       "      <td>0.463772</td>\n",
       "    </tr>\n",
       "    <tr>\n",
       "      <th>0.598829</th>\n",
       "      <td>(1.0, 0.0, 0.0)</td>\n",
       "      <td>0.206858</td>\n",
       "      <td>0.402909</td>\n",
       "      <td>0.463772</td>\n",
       "    </tr>\n",
       "    <tr>\n",
       "      <th>0.599219</th>\n",
       "      <td>(1.0, 0.0, 0.0)</td>\n",
       "      <td>0.206858</td>\n",
       "      <td>0.402909</td>\n",
       "      <td>0.463772</td>\n",
       "    </tr>\n",
       "    <tr>\n",
       "      <th>0.599610</th>\n",
       "      <td>(1.0, 0.0, 0.0)</td>\n",
       "      <td>0.206858</td>\n",
       "      <td>0.402909</td>\n",
       "      <td>0.463772</td>\n",
       "    </tr>\n",
       "    <tr>\n",
       "      <th>0.600000</th>\n",
       "      <td>(1.0, 0.0, 0.0)</td>\n",
       "      <td>0.206858</td>\n",
       "      <td>0.402909</td>\n",
       "      <td>0.463772</td>\n",
       "    </tr>\n",
       "  </tbody>\n",
       "</table>\n",
       "<p>1000 rows × 4 columns</p>\n",
       "</div>"
      ],
      "text/plain": [
       "                              weights   returns       std    sharpe\n",
       "0.209933  (0.33297, 0.52959, 0.13744)   0.13849  0.209933  0.564416\n",
       "0.210324   (0.3347, 0.53086, 0.13444)  0.138757  0.210324  0.564639\n",
       "0.210714  (0.33642, 0.53214, 0.13144)  0.139023  0.210714  0.564853\n",
       "0.211105  (0.33814, 0.53338, 0.12848)  0.139287  0.211105  0.565059\n",
       "0.211495  (0.33984, 0.53463, 0.12553)  0.139549  0.211495  0.565256\n",
       "...                               ...       ...       ...       ...\n",
       "0.598438              (1.0, 0.0, 0.0)  0.206858  0.402909  0.463772\n",
       "0.598829              (1.0, 0.0, 0.0)  0.206858  0.402909  0.463772\n",
       "0.599219              (1.0, 0.0, 0.0)  0.206858  0.402909  0.463772\n",
       "0.599610              (1.0, 0.0, 0.0)  0.206858  0.402909  0.463772\n",
       "0.600000              (1.0, 0.0, 0.0)  0.206858  0.402909  0.463772\n",
       "\n",
       "[1000 rows x 4 columns]"
      ]
     },
     "execution_count": 26,
     "metadata": {},
     "output_type": "execute_result"
    }
   ],
   "source": [
    "res_3S = FigPortFolioopt(returns3S,min(returns3S.std()*np.sqrt(252)))\n",
    "res_3S"
   ]
  },
  {
   "cell_type": "code",
   "execution_count": 27,
   "metadata": {},
   "outputs": [
    {
     "data": {
      "text/html": [
       "<div>\n",
       "<style scoped>\n",
       "    .dataframe tbody tr th:only-of-type {\n",
       "        vertical-align: middle;\n",
       "    }\n",
       "\n",
       "    .dataframe tbody tr th {\n",
       "        vertical-align: top;\n",
       "    }\n",
       "\n",
       "    .dataframe thead th {\n",
       "        text-align: right;\n",
       "    }\n",
       "</style>\n",
       "<table border=\"1\" class=\"dataframe\">\n",
       "  <thead>\n",
       "    <tr style=\"text-align: right;\">\n",
       "      <th></th>\n",
       "      <th>weights</th>\n",
       "      <th>returns</th>\n",
       "      <th>std</th>\n",
       "      <th>sharpe</th>\n",
       "    </tr>\n",
       "  </thead>\n",
       "  <tbody>\n",
       "    <tr>\n",
       "      <th>0.246636</th>\n",
       "      <td>(0.49518, 0.50482, 0.0)</td>\n",
       "      <td>0.158632</td>\n",
       "      <td>0.246636</td>\n",
       "      <td>0.562089</td>\n",
       "    </tr>\n",
       "    <tr>\n",
       "      <th>0.247027</th>\n",
       "      <td>(0.49693, 0.50307, 0.0)</td>\n",
       "      <td>0.158798</td>\n",
       "      <td>0.247027</td>\n",
       "      <td>0.561876</td>\n",
       "    </tr>\n",
       "    <tr>\n",
       "      <th>0.247417</th>\n",
       "      <td>(0.49866, 0.50134, 0.0)</td>\n",
       "      <td>0.158964</td>\n",
       "      <td>0.247417</td>\n",
       "      <td>0.561660</td>\n",
       "    </tr>\n",
       "    <tr>\n",
       "      <th>0.247808</th>\n",
       "      <td>(0.5004, 0.4996, 0.0)</td>\n",
       "      <td>0.159130</td>\n",
       "      <td>0.247808</td>\n",
       "      <td>0.561443</td>\n",
       "    </tr>\n",
       "    <tr>\n",
       "      <th>0.248198</th>\n",
       "      <td>(0.50212, 0.49788, 0.0)</td>\n",
       "      <td>0.159295</td>\n",
       "      <td>0.248198</td>\n",
       "      <td>0.561223</td>\n",
       "    </tr>\n",
       "  </tbody>\n",
       "</table>\n",
       "</div>"
      ],
      "text/plain": [
       "                          weights   returns       std    sharpe\n",
       "0.246636  (0.49518, 0.50482, 0.0)  0.158632  0.246636  0.562089\n",
       "0.247027  (0.49693, 0.50307, 0.0)  0.158798  0.247027  0.561876\n",
       "0.247417  (0.49866, 0.50134, 0.0)  0.158964  0.247417  0.561660\n",
       "0.247808    (0.5004, 0.4996, 0.0)  0.159130  0.247808  0.561443\n",
       "0.248198  (0.50212, 0.49788, 0.0)  0.159295  0.248198  0.561223"
      ]
     },
     "execution_count": 27,
     "metadata": {},
     "output_type": "execute_result"
    }
   ],
   "source": [
    "res_3S = res_3S.astype({\"returns\": 'float',\"std\": 'float',\"sharpe\": 'float'})\n",
    "res_3S[(res_3S['std'].round(3) == 0.247) | (res_3S['std'].round(3) == 0.248)]"
   ]
  },
  {
   "cell_type": "markdown",
   "metadata": {},
   "source": [
    "## 4.3\tIs there a diversification benefit to adding Security #3?  Explain your answer.\n"
   ]
  },
  {
   "cell_type": "markdown",
   "metadata": {},
   "source": [
    "It seems that there is little difference between the 3 sector and the two sector portfolios. The overall return for the optmised portfolio is similar to before. When we look at the correlation matrix of the selected SPDRs computed above, we see that they are highly correlated. This could explain why diversifying does not make much difference.  "
   ]
  },
  {
   "cell_type": "markdown",
   "metadata": {},
   "source": [
    "# 5\tCategory 3 Portfolios:  All Combinations\n"
   ]
  },
  {
   "cell_type": "code",
   "execution_count": 28,
   "metadata": {},
   "outputs": [],
   "source": [
    "train = df[(df.index <=\"2019-12-31\") & (df.index>=\"2019-01-01\")].pct_change().dropna()\n",
    "test = df[(df.index >\"2019-12-31\")].pct_change().dropna()"
   ]
  },
  {
   "cell_type": "markdown",
   "metadata": {},
   "source": [
    "### 5.2\tAssume a fixed amount of risk.  Use each portfolio's EF to determine the weights of each of the 3 securities.\n"
   ]
  },
  {
   "cell_type": "code",
   "execution_count": 29,
   "metadata": {},
   "outputs": [
    {
     "data": {
      "text/html": [
       "<div>\n",
       "<style scoped>\n",
       "    .dataframe tbody tr th:only-of-type {\n",
       "        vertical-align: middle;\n",
       "    }\n",
       "\n",
       "    .dataframe tbody tr th {\n",
       "        vertical-align: top;\n",
       "    }\n",
       "\n",
       "    .dataframe thead th {\n",
       "        text-align: right;\n",
       "    }\n",
       "</style>\n",
       "<table border=\"1\" class=\"dataframe\">\n",
       "  <thead>\n",
       "    <tr style=\"text-align: right;\">\n",
       "      <th></th>\n",
       "      <th>securities</th>\n",
       "      <th>weights</th>\n",
       "      <th>returns</th>\n",
       "      <th>volatilities</th>\n",
       "      <th>sharpe_ratios</th>\n",
       "    </tr>\n",
       "  </thead>\n",
       "  <tbody>\n",
       "    <tr>\n",
       "      <th>1</th>\n",
       "      <td>[XLE, XLF, XLU]</td>\n",
       "      <td>(-1.0, 1.0, 1.0)</td>\n",
       "      <td>0.499444</td>\n",
       "      <td>0.194266</td>\n",
       "      <td>2.46797</td>\n",
       "    </tr>\n",
       "    <tr>\n",
       "      <th>2</th>\n",
       "      <td>[XLE, XLF, XLI]</td>\n",
       "      <td>(-1.0, 1.0, 1.0)</td>\n",
       "      <td>0.515487</td>\n",
       "      <td>0.210658</td>\n",
       "      <td>2.35209</td>\n",
       "    </tr>\n",
       "    <tr>\n",
       "      <th>3</th>\n",
       "      <td>[XLE, XLF, GDX]</td>\n",
       "      <td>(-0.83483, 1.0, 0.83483)</td>\n",
       "      <td>0.588262</td>\n",
       "      <td>0.247718</td>\n",
       "      <td>2.29398</td>\n",
       "    </tr>\n",
       "    <tr>\n",
       "      <th>4</th>\n",
       "      <td>[XLE, XLF, XLK]</td>\n",
       "      <td>(-1.0, 1.0, 1.0)</td>\n",
       "      <td>0.73629</td>\n",
       "      <td>0.231848</td>\n",
       "      <td>3.08948</td>\n",
       "    </tr>\n",
       "    <tr>\n",
       "      <th>5</th>\n",
       "      <td>[XLE, XLF, XLV]</td>\n",
       "      <td>(-1.0, 1.0, 1.0)</td>\n",
       "      <td>0.452306</td>\n",
       "      <td>0.197126</td>\n",
       "      <td>2.19304</td>\n",
       "    </tr>\n",
       "    <tr>\n",
       "      <th>...</th>\n",
       "      <td>...</td>\n",
       "      <td>...</td>\n",
       "      <td>...</td>\n",
       "      <td>...</td>\n",
       "      <td>...</td>\n",
       "    </tr>\n",
       "    <tr>\n",
       "      <th>161</th>\n",
       "      <td>[XLV, XLB, XOP]</td>\n",
       "      <td>(0.73554, 1.0, -0.73554)</td>\n",
       "      <td>0.452021</td>\n",
       "      <td>0.247718</td>\n",
       "      <td>1.744</td>\n",
       "    </tr>\n",
       "    <tr>\n",
       "      <th>162</th>\n",
       "      <td>[XLY, XLP, XLB]</td>\n",
       "      <td>(1.0, 1.0, -1.0)</td>\n",
       "      <td>0.296639</td>\n",
       "      <td>0.156653</td>\n",
       "      <td>1.76593</td>\n",
       "    </tr>\n",
       "    <tr>\n",
       "      <th>163</th>\n",
       "      <td>[XLY, XLP, XOP]</td>\n",
       "      <td>(1.0, 0.71666, -0.71666)</td>\n",
       "      <td>0.53124</td>\n",
       "      <td>0.247718</td>\n",
       "      <td>2.0638</td>\n",
       "    </tr>\n",
       "    <tr>\n",
       "      <th>164</th>\n",
       "      <td>[XLY, XLB, XOP]</td>\n",
       "      <td>(1.0, 0.75688, -0.75688)</td>\n",
       "      <td>0.517587</td>\n",
       "      <td>0.247718</td>\n",
       "      <td>2.00868</td>\n",
       "    </tr>\n",
       "    <tr>\n",
       "      <th>165</th>\n",
       "      <td>[XLP, XLB, XOP]</td>\n",
       "      <td>(1.0, 0.69104, -0.69104)</td>\n",
       "      <td>0.485393</td>\n",
       "      <td>0.247718</td>\n",
       "      <td>1.87872</td>\n",
       "    </tr>\n",
       "  </tbody>\n",
       "</table>\n",
       "<p>165 rows × 5 columns</p>\n",
       "</div>"
      ],
      "text/plain": [
       "          securities                   weights   returns volatilities  \\\n",
       "1    [XLE, XLF, XLU]          (-1.0, 1.0, 1.0)  0.499444     0.194266   \n",
       "2    [XLE, XLF, XLI]          (-1.0, 1.0, 1.0)  0.515487     0.210658   \n",
       "3    [XLE, XLF, GDX]  (-0.83483, 1.0, 0.83483)  0.588262     0.247718   \n",
       "4    [XLE, XLF, XLK]          (-1.0, 1.0, 1.0)   0.73629     0.231848   \n",
       "5    [XLE, XLF, XLV]          (-1.0, 1.0, 1.0)  0.452306     0.197126   \n",
       "..               ...                       ...       ...          ...   \n",
       "161  [XLV, XLB, XOP]  (0.73554, 1.0, -0.73554)  0.452021     0.247718   \n",
       "162  [XLY, XLP, XLB]          (1.0, 1.0, -1.0)  0.296639     0.156653   \n",
       "163  [XLY, XLP, XOP]  (1.0, 0.71666, -0.71666)   0.53124     0.247718   \n",
       "164  [XLY, XLB, XOP]  (1.0, 0.75688, -0.75688)  0.517587     0.247718   \n",
       "165  [XLP, XLB, XOP]  (1.0, 0.69104, -0.69104)  0.485393     0.247718   \n",
       "\n",
       "    sharpe_ratios  \n",
       "1         2.46797  \n",
       "2         2.35209  \n",
       "3         2.29398  \n",
       "4         3.08948  \n",
       "5         2.19304  \n",
       "..            ...  \n",
       "161         1.744  \n",
       "162       1.76593  \n",
       "163        2.0638  \n",
       "164       2.00868  \n",
       "165       1.87872  \n",
       "\n",
       "[165 rows x 5 columns]"
      ]
     },
     "execution_count": 29,
     "metadata": {},
     "output_type": "execute_result"
    }
   ],
   "source": [
    "import itertools\n",
    "import copy\n",
    "\n",
    "results = pd.DataFrame(columns = [\"securities\",'weights','returns',\"volatilities\",\"sharpe_ratios\"])\n",
    "risk_level = an_port_std/100\n",
    "ind = 0\n",
    "\n",
    "for subset in itertools.combinations(train, 3):\n",
    "    ind += 1\n",
    "    port_returns = train[list(subset)]\n",
    "    mu = expected_returns.mean_historical_return(port_returns, returns_data = True)\n",
    "    S = risk_models.sample_cov(port_returns, returns_data = True) \n",
    "    ef = EfficientFrontier(mu, S, weight_bounds=(-1, 1))\n",
    "    ef.efficient_risk(risk_level)\n",
    "    results.loc[ind,\"securities\"] = list(subset)\n",
    "    results.loc[ind,\"weights\"] = ef.clean_weights().values()\n",
    "    results.loc[ind,\"returns\"], results.loc[ind,\"volatilities\"], results.loc[ind,\"sharpe_ratios\"] = ef.portfolio_performance()\n",
    "\n",
    "results"
   ]
  },
  {
   "cell_type": "markdown",
   "metadata": {},
   "source": [
    "### 5.3\tRank the 2019 portfolio returns.\n"
   ]
  },
  {
   "cell_type": "code",
   "execution_count": 30,
   "metadata": {},
   "outputs": [
    {
     "data": {
      "text/html": [
       "<div>\n",
       "<style scoped>\n",
       "    .dataframe tbody tr th:only-of-type {\n",
       "        vertical-align: middle;\n",
       "    }\n",
       "\n",
       "    .dataframe tbody tr th {\n",
       "        vertical-align: top;\n",
       "    }\n",
       "\n",
       "    .dataframe thead th {\n",
       "        text-align: right;\n",
       "    }\n",
       "</style>\n",
       "<table border=\"1\" class=\"dataframe\">\n",
       "  <thead>\n",
       "    <tr style=\"text-align: right;\">\n",
       "      <th></th>\n",
       "      <th>securities</th>\n",
       "      <th>weights</th>\n",
       "      <th>returns</th>\n",
       "      <th>volatilities</th>\n",
       "      <th>sharpe_ratios</th>\n",
       "    </tr>\n",
       "  </thead>\n",
       "  <tbody>\n",
       "    <tr>\n",
       "      <th>0</th>\n",
       "      <td>[GDX, XLK, XOP]</td>\n",
       "      <td>(0.55374, 1.0, -0.55374)</td>\n",
       "      <td>0.770999</td>\n",
       "      <td>0.247718</td>\n",
       "      <td>3.03167</td>\n",
       "    </tr>\n",
       "    <tr>\n",
       "      <th>1</th>\n",
       "      <td>[XLF, XLK, XOP]</td>\n",
       "      <td>(0.69815, 1.0, -0.69815)</td>\n",
       "      <td>0.769924</td>\n",
       "      <td>0.247718</td>\n",
       "      <td>3.02733</td>\n",
       "    </tr>\n",
       "    <tr>\n",
       "      <th>2</th>\n",
       "      <td>[XLE, GDX, XLK]</td>\n",
       "      <td>(-0.74147, 0.74147, 1.0)</td>\n",
       "      <td>0.751767</td>\n",
       "      <td>0.247718</td>\n",
       "      <td>2.95403</td>\n",
       "    </tr>\n",
       "    <tr>\n",
       "      <th>3</th>\n",
       "      <td>[XLI, XLK, XOP]</td>\n",
       "      <td>(0.69148, 1.0, -0.69148)</td>\n",
       "      <td>0.751163</td>\n",
       "      <td>0.247718</td>\n",
       "      <td>2.95159</td>\n",
       "    </tr>\n",
       "    <tr>\n",
       "      <th>4</th>\n",
       "      <td>[XLE, XLF, XLK]</td>\n",
       "      <td>(-1.0, 1.0, 1.0)</td>\n",
       "      <td>0.73629</td>\n",
       "      <td>0.231848</td>\n",
       "      <td>3.08948</td>\n",
       "    </tr>\n",
       "    <tr>\n",
       "      <th>...</th>\n",
       "      <td>...</td>\n",
       "      <td>...</td>\n",
       "      <td>...</td>\n",
       "      <td>...</td>\n",
       "      <td>...</td>\n",
       "    </tr>\n",
       "    <tr>\n",
       "      <th>160</th>\n",
       "      <td>[XLI, XLY, XLP]</td>\n",
       "      <td>(1.0, 1.0, -1.0)</td>\n",
       "      <td>0.269213</td>\n",
       "      <td>0.237382</td>\n",
       "      <td>1.04984</td>\n",
       "    </tr>\n",
       "    <tr>\n",
       "      <th>161</th>\n",
       "      <td>[XLU, XLI, XLP]</td>\n",
       "      <td>(-1.0, 1.0, 1.0)</td>\n",
       "      <td>0.264766</td>\n",
       "      <td>0.220894</td>\n",
       "      <td>1.10807</td>\n",
       "    </tr>\n",
       "    <tr>\n",
       "      <th>162</th>\n",
       "      <td>[XLU, XLY, XLP]</td>\n",
       "      <td>(-1.0, 1.0, 1.0)</td>\n",
       "      <td>0.263559</td>\n",
       "      <td>0.207708</td>\n",
       "      <td>1.1726</td>\n",
       "    </tr>\n",
       "    <tr>\n",
       "      <th>163</th>\n",
       "      <td>[XLV, XLP, XLB]</td>\n",
       "      <td>(-1.0, 1.0, 1.0)</td>\n",
       "      <td>0.26278</td>\n",
       "      <td>0.178164</td>\n",
       "      <td>1.36268</td>\n",
       "    </tr>\n",
       "    <tr>\n",
       "      <th>164</th>\n",
       "      <td>[XLU, XLV, XLB]</td>\n",
       "      <td>(1.0, -1.0, 1.0)</td>\n",
       "      <td>0.257586</td>\n",
       "      <td>0.157169</td>\n",
       "      <td>1.51165</td>\n",
       "    </tr>\n",
       "  </tbody>\n",
       "</table>\n",
       "<p>165 rows × 5 columns</p>\n",
       "</div>"
      ],
      "text/plain": [
       "          securities                   weights   returns volatilities  \\\n",
       "0    [GDX, XLK, XOP]  (0.55374, 1.0, -0.55374)  0.770999     0.247718   \n",
       "1    [XLF, XLK, XOP]  (0.69815, 1.0, -0.69815)  0.769924     0.247718   \n",
       "2    [XLE, GDX, XLK]  (-0.74147, 0.74147, 1.0)  0.751767     0.247718   \n",
       "3    [XLI, XLK, XOP]  (0.69148, 1.0, -0.69148)  0.751163     0.247718   \n",
       "4    [XLE, XLF, XLK]          (-1.0, 1.0, 1.0)   0.73629     0.231848   \n",
       "..               ...                       ...       ...          ...   \n",
       "160  [XLI, XLY, XLP]          (1.0, 1.0, -1.0)  0.269213     0.237382   \n",
       "161  [XLU, XLI, XLP]          (-1.0, 1.0, 1.0)  0.264766     0.220894   \n",
       "162  [XLU, XLY, XLP]          (-1.0, 1.0, 1.0)  0.263559     0.207708   \n",
       "163  [XLV, XLP, XLB]          (-1.0, 1.0, 1.0)   0.26278     0.178164   \n",
       "164  [XLU, XLV, XLB]          (1.0, -1.0, 1.0)  0.257586     0.157169   \n",
       "\n",
       "    sharpe_ratios  \n",
       "0         3.03167  \n",
       "1         3.02733  \n",
       "2         2.95403  \n",
       "3         2.95159  \n",
       "4         3.08948  \n",
       "..            ...  \n",
       "160       1.04984  \n",
       "161       1.10807  \n",
       "162        1.1726  \n",
       "163       1.36268  \n",
       "164       1.51165  \n",
       "\n",
       "[165 rows x 5 columns]"
      ]
     },
     "execution_count": 30,
     "metadata": {},
     "output_type": "execute_result"
    }
   ],
   "source": [
    "results = results.sort_values('returns', ascending = False)\n",
    "results = results.reset_index().drop(\"index\", axis =1)\n",
    "results"
   ]
  },
  {
   "cell_type": "markdown",
   "metadata": {},
   "source": [
    "### 5.4\tTest each of the 165 portfolios using 2020 daily return data.  \n"
   ]
  },
  {
   "cell_type": "code",
   "execution_count": 31,
   "metadata": {},
   "outputs": [
    {
     "data": {
      "text/html": [
       "<div>\n",
       "<style scoped>\n",
       "    .dataframe tbody tr th:only-of-type {\n",
       "        vertical-align: middle;\n",
       "    }\n",
       "\n",
       "    .dataframe tbody tr th {\n",
       "        vertical-align: top;\n",
       "    }\n",
       "\n",
       "    .dataframe thead th {\n",
       "        text-align: right;\n",
       "    }\n",
       "</style>\n",
       "<table border=\"1\" class=\"dataframe\">\n",
       "  <thead>\n",
       "    <tr style=\"text-align: right;\">\n",
       "      <th></th>\n",
       "      <th>securities</th>\n",
       "      <th>weights</th>\n",
       "      <th>returns</th>\n",
       "      <th>volatilities</th>\n",
       "    </tr>\n",
       "  </thead>\n",
       "  <tbody>\n",
       "    <tr>\n",
       "      <th>0</th>\n",
       "      <td>[XLE, XLK, XLY]</td>\n",
       "      <td>[-1.0, 1.0, 1.0]</td>\n",
       "      <td>1.03349</td>\n",
       "      <td>0.535026</td>\n",
       "    </tr>\n",
       "    <tr>\n",
       "      <th>1</th>\n",
       "      <td>[XLE, XLK, XLB]</td>\n",
       "      <td>[-1.0, 1.0, 1.0]</td>\n",
       "      <td>0.959194</td>\n",
       "      <td>0.49258</td>\n",
       "    </tr>\n",
       "    <tr>\n",
       "      <th>2</th>\n",
       "      <td>[XLE, XLK, XLV]</td>\n",
       "      <td>[-1.0, 1.0, 1.0]</td>\n",
       "      <td>0.877348</td>\n",
       "      <td>0.536916</td>\n",
       "    </tr>\n",
       "    <tr>\n",
       "      <th>3</th>\n",
       "      <td>[XLE, XLK, XLP]</td>\n",
       "      <td>[-1.0, 1.0, 1.0]</td>\n",
       "      <td>0.846153</td>\n",
       "      <td>0.533602</td>\n",
       "    </tr>\n",
       "    <tr>\n",
       "      <th>4</th>\n",
       "      <td>[XLE, GDX, XLK]</td>\n",
       "      <td>[-0.74147, 0.74147, 1.0]</td>\n",
       "      <td>0.838323</td>\n",
       "      <td>0.583759</td>\n",
       "    </tr>\n",
       "    <tr>\n",
       "      <th>...</th>\n",
       "      <td>...</td>\n",
       "      <td>...</td>\n",
       "      <td>...</td>\n",
       "      <td>...</td>\n",
       "    </tr>\n",
       "    <tr>\n",
       "      <th>160</th>\n",
       "      <td>[XLF, XLP, XLB]</td>\n",
       "      <td>[1.0, 1.0, -1.0]</td>\n",
       "      <td>-0.164521</td>\n",
       "      <td>0.373393</td>\n",
       "    </tr>\n",
       "    <tr>\n",
       "      <th>161</th>\n",
       "      <td>[XLF, XLI, XLB]</td>\n",
       "      <td>[1.0, 1.0, -1.0]</td>\n",
       "      <td>-0.177328</td>\n",
       "      <td>0.495996</td>\n",
       "    </tr>\n",
       "    <tr>\n",
       "      <th>162</th>\n",
       "      <td>[XLF, XLU, XLV]</td>\n",
       "      <td>[1.0, 1.0, -1.0]</td>\n",
       "      <td>-0.179617</td>\n",
       "      <td>0.553226</td>\n",
       "    </tr>\n",
       "    <tr>\n",
       "      <th>163</th>\n",
       "      <td>[XLF, XLI, XLY]</td>\n",
       "      <td>[1.0, 1.0, -1.0]</td>\n",
       "      <td>-0.251623</td>\n",
       "      <td>0.562704</td>\n",
       "    </tr>\n",
       "    <tr>\n",
       "      <th>164</th>\n",
       "      <td>[XLF, XLU, XLB]</td>\n",
       "      <td>[1.0, 1.0, -1.0]</td>\n",
       "      <td>-0.261462</td>\n",
       "      <td>0.468617</td>\n",
       "    </tr>\n",
       "  </tbody>\n",
       "</table>\n",
       "<p>165 rows × 4 columns</p>\n",
       "</div>"
      ],
      "text/plain": [
       "          securities                   weights   returns volatilities\n",
       "0    [XLE, XLK, XLY]          [-1.0, 1.0, 1.0]   1.03349     0.535026\n",
       "1    [XLE, XLK, XLB]          [-1.0, 1.0, 1.0]  0.959194      0.49258\n",
       "2    [XLE, XLK, XLV]          [-1.0, 1.0, 1.0]  0.877348     0.536916\n",
       "3    [XLE, XLK, XLP]          [-1.0, 1.0, 1.0]  0.846153     0.533602\n",
       "4    [XLE, GDX, XLK]  [-0.74147, 0.74147, 1.0]  0.838323     0.583759\n",
       "..               ...                       ...       ...          ...\n",
       "160  [XLF, XLP, XLB]          [1.0, 1.0, -1.0] -0.164521     0.373393\n",
       "161  [XLF, XLI, XLB]          [1.0, 1.0, -1.0] -0.177328     0.495996\n",
       "162  [XLF, XLU, XLV]          [1.0, 1.0, -1.0] -0.179617     0.553226\n",
       "163  [XLF, XLI, XLY]          [1.0, 1.0, -1.0] -0.251623     0.562704\n",
       "164  [XLF, XLU, XLB]          [1.0, 1.0, -1.0] -0.261462     0.468617\n",
       "\n",
       "[165 rows x 4 columns]"
      ]
     },
     "execution_count": 31,
     "metadata": {},
     "output_type": "execute_result"
    }
   ],
   "source": [
    "results_2020 = pd.DataFrame(columns = [\"securities\",'weights','returns',\"volatilities\"])\n",
    "\n",
    "for index, row in results.iterrows():\n",
    "    ret_2020 = test[row[\"securities\"]]\n",
    "    weights = list(row[\"weights\"])\n",
    "    results_2020.loc[index,\"securities\"] = row[\"securities\"]\n",
    "    results_2020.loc[index,\"weights\"] = weights\n",
    "    results_2020.loc[index,\"returns\"] = portreturn_2(ret_2020,weights,1)\n",
    "    results_2020.loc[index,\"volatilities\"] = portstd_2(ret_2020,weights)\n",
    "\n",
    "results_2020 = results_2020.sort_values(\"returns\",ascending = False).reset_index().drop(\"index\", axis = 1)\n",
    "results_2020"
   ]
  },
  {
   "cell_type": "markdown",
   "metadata": {},
   "source": [
    "### 5.5\tRank the 2020 portfolio returns.\n"
   ]
  },
  {
   "cell_type": "code",
   "execution_count": 32,
   "metadata": {},
   "outputs": [
    {
     "data": {
      "text/html": [
       "<div>\n",
       "<style scoped>\n",
       "    .dataframe tbody tr th:only-of-type {\n",
       "        vertical-align: middle;\n",
       "    }\n",
       "\n",
       "    .dataframe tbody tr th {\n",
       "        vertical-align: top;\n",
       "    }\n",
       "\n",
       "    .dataframe thead th {\n",
       "        text-align: right;\n",
       "    }\n",
       "</style>\n",
       "<table border=\"1\" class=\"dataframe\">\n",
       "  <thead>\n",
       "    <tr style=\"text-align: right;\">\n",
       "      <th></th>\n",
       "      <th>securities</th>\n",
       "      <th>weights</th>\n",
       "      <th>returns</th>\n",
       "      <th>volatilities</th>\n",
       "    </tr>\n",
       "  </thead>\n",
       "  <tbody>\n",
       "    <tr>\n",
       "      <th>0</th>\n",
       "      <td>[XLE, XLK, XLY]</td>\n",
       "      <td>[-1.0, 1.0, 1.0]</td>\n",
       "      <td>1.03349</td>\n",
       "      <td>0.535026</td>\n",
       "    </tr>\n",
       "    <tr>\n",
       "      <th>1</th>\n",
       "      <td>[XLE, XLK, XLB]</td>\n",
       "      <td>[-1.0, 1.0, 1.0]</td>\n",
       "      <td>0.959194</td>\n",
       "      <td>0.49258</td>\n",
       "    </tr>\n",
       "    <tr>\n",
       "      <th>2</th>\n",
       "      <td>[XLE, XLK, XLV]</td>\n",
       "      <td>[-1.0, 1.0, 1.0]</td>\n",
       "      <td>0.877348</td>\n",
       "      <td>0.536916</td>\n",
       "    </tr>\n",
       "    <tr>\n",
       "      <th>3</th>\n",
       "      <td>[XLE, XLK, XLP]</td>\n",
       "      <td>[-1.0, 1.0, 1.0]</td>\n",
       "      <td>0.846153</td>\n",
       "      <td>0.533602</td>\n",
       "    </tr>\n",
       "    <tr>\n",
       "      <th>4</th>\n",
       "      <td>[XLE, GDX, XLK]</td>\n",
       "      <td>[-0.74147, 0.74147, 1.0]</td>\n",
       "      <td>0.838323</td>\n",
       "      <td>0.583759</td>\n",
       "    </tr>\n",
       "    <tr>\n",
       "      <th>...</th>\n",
       "      <td>...</td>\n",
       "      <td>...</td>\n",
       "      <td>...</td>\n",
       "      <td>...</td>\n",
       "    </tr>\n",
       "    <tr>\n",
       "      <th>160</th>\n",
       "      <td>[XLF, XLP, XLB]</td>\n",
       "      <td>[1.0, 1.0, -1.0]</td>\n",
       "      <td>-0.164521</td>\n",
       "      <td>0.373393</td>\n",
       "    </tr>\n",
       "    <tr>\n",
       "      <th>161</th>\n",
       "      <td>[XLF, XLI, XLB]</td>\n",
       "      <td>[1.0, 1.0, -1.0]</td>\n",
       "      <td>-0.177328</td>\n",
       "      <td>0.495996</td>\n",
       "    </tr>\n",
       "    <tr>\n",
       "      <th>162</th>\n",
       "      <td>[XLF, XLU, XLV]</td>\n",
       "      <td>[1.0, 1.0, -1.0]</td>\n",
       "      <td>-0.179617</td>\n",
       "      <td>0.553226</td>\n",
       "    </tr>\n",
       "    <tr>\n",
       "      <th>163</th>\n",
       "      <td>[XLF, XLI, XLY]</td>\n",
       "      <td>[1.0, 1.0, -1.0]</td>\n",
       "      <td>-0.251623</td>\n",
       "      <td>0.562704</td>\n",
       "    </tr>\n",
       "    <tr>\n",
       "      <th>164</th>\n",
       "      <td>[XLF, XLU, XLB]</td>\n",
       "      <td>[1.0, 1.0, -1.0]</td>\n",
       "      <td>-0.261462</td>\n",
       "      <td>0.468617</td>\n",
       "    </tr>\n",
       "  </tbody>\n",
       "</table>\n",
       "<p>165 rows × 4 columns</p>\n",
       "</div>"
      ],
      "text/plain": [
       "          securities                   weights   returns volatilities\n",
       "0    [XLE, XLK, XLY]          [-1.0, 1.0, 1.0]   1.03349     0.535026\n",
       "1    [XLE, XLK, XLB]          [-1.0, 1.0, 1.0]  0.959194      0.49258\n",
       "2    [XLE, XLK, XLV]          [-1.0, 1.0, 1.0]  0.877348     0.536916\n",
       "3    [XLE, XLK, XLP]          [-1.0, 1.0, 1.0]  0.846153     0.533602\n",
       "4    [XLE, GDX, XLK]  [-0.74147, 0.74147, 1.0]  0.838323     0.583759\n",
       "..               ...                       ...       ...          ...\n",
       "160  [XLF, XLP, XLB]          [1.0, 1.0, -1.0] -0.164521     0.373393\n",
       "161  [XLF, XLI, XLB]          [1.0, 1.0, -1.0] -0.177328     0.495996\n",
       "162  [XLF, XLU, XLV]          [1.0, 1.0, -1.0] -0.179617     0.553226\n",
       "163  [XLF, XLI, XLY]          [1.0, 1.0, -1.0] -0.251623     0.562704\n",
       "164  [XLF, XLU, XLB]          [1.0, 1.0, -1.0] -0.261462     0.468617\n",
       "\n",
       "[165 rows x 4 columns]"
      ]
     },
     "execution_count": 32,
     "metadata": {},
     "output_type": "execute_result"
    }
   ],
   "source": [
    "results_2020"
   ]
  },
  {
   "cell_type": "markdown",
   "metadata": {},
   "source": [
    "# 6\tAnalyzing 3-Security Portfolio\n"
   ]
  },
  {
   "cell_type": "markdown",
   "metadata": {},
   "source": [
    "### 6.1\tRelabel the ETF with a + sign if the weight >0, or a - sign if the weight <0.  Then add the assigned Economic Indicator.\n"
   ]
  },
  {
   "cell_type": "code",
   "execution_count": 33,
   "metadata": {},
   "outputs": [
    {
     "data": {
      "text/html": [
       "<div>\n",
       "<style scoped>\n",
       "    .dataframe tbody tr th:only-of-type {\n",
       "        vertical-align: middle;\n",
       "    }\n",
       "\n",
       "    .dataframe tbody tr th {\n",
       "        vertical-align: top;\n",
       "    }\n",
       "\n",
       "    .dataframe thead th {\n",
       "        text-align: right;\n",
       "    }\n",
       "</style>\n",
       "<table border=\"1\" class=\"dataframe\">\n",
       "  <thead>\n",
       "    <tr style=\"text-align: right;\">\n",
       "      <th></th>\n",
       "      <th>Unnamed: 0</th>\n",
       "      <th>level_0</th>\n",
       "      <th>Symbols</th>\n",
       "      <th>coefs</th>\n",
       "      <th>score</th>\n",
       "      <th>mse</th>\n",
       "    </tr>\n",
       "  </thead>\n",
       "  <tbody>\n",
       "    <tr>\n",
       "      <th>0</th>\n",
       "      <td>4</td>\n",
       "      <td>LEI</td>\n",
       "      <td>GDX</td>\n",
       "      <td>[-2.79184640e-03 -6.71582729e+00 -4.72323768e+...</td>\n",
       "      <td>0.888943</td>\n",
       "      <td>1.551320</td>\n",
       "    </tr>\n",
       "    <tr>\n",
       "      <th>1</th>\n",
       "      <td>11</td>\n",
       "      <td>LEI</td>\n",
       "      <td>SPY</td>\n",
       "      <td>[ 4.18833921e-03  1.44728231e+01  1.84790354e+...</td>\n",
       "      <td>0.508760</td>\n",
       "      <td>144.113454</td>\n",
       "    </tr>\n",
       "    <tr>\n",
       "      <th>2</th>\n",
       "      <td>7</td>\n",
       "      <td>LEI</td>\n",
       "      <td>XLY</td>\n",
       "      <td>[ 7.37944434e-03 -1.17953142e+00 -2.84459695e+...</td>\n",
       "      <td>0.469848</td>\n",
       "      <td>24.516201</td>\n",
       "    </tr>\n",
       "    <tr>\n",
       "      <th>3</th>\n",
       "      <td>5</td>\n",
       "      <td>LEI</td>\n",
       "      <td>XLK</td>\n",
       "      <td>[ 4.39197325e-03  6.94193857e+00 -9.21022956e+...</td>\n",
       "      <td>0.307864</td>\n",
       "      <td>41.641353</td>\n",
       "    </tr>\n",
       "    <tr>\n",
       "      <th>4</th>\n",
       "      <td>2</td>\n",
       "      <td>LEI</td>\n",
       "      <td>XLU</td>\n",
       "      <td>[-5.63878016e-03  1.72283911e-01  2.41290497e+...</td>\n",
       "      <td>0.225806</td>\n",
       "      <td>13.140333</td>\n",
       "    </tr>\n",
       "  </tbody>\n",
       "</table>\n",
       "</div>"
      ],
      "text/plain": [
       "   Unnamed: 0 level_0 Symbols  \\\n",
       "0           4     LEI     GDX   \n",
       "1          11     LEI     SPY   \n",
       "2           7     LEI     XLY   \n",
       "3           5     LEI     XLK   \n",
       "4           2     LEI     XLU   \n",
       "\n",
       "                                               coefs     score         mse  \n",
       "0  [-2.79184640e-03 -6.71582729e+00 -4.72323768e+...  0.888943    1.551320  \n",
       "1  [ 4.18833921e-03  1.44728231e+01  1.84790354e+...  0.508760  144.113454  \n",
       "2  [ 7.37944434e-03 -1.17953142e+00 -2.84459695e+...  0.469848   24.516201  \n",
       "3  [ 4.39197325e-03  6.94193857e+00 -9.21022956e+...  0.307864   41.641353  \n",
       "4  [-5.63878016e-03  1.72283911e-01  2.41290497e+...  0.225806   13.140333  "
      ]
     },
     "execution_count": 33,
     "metadata": {},
     "output_type": "execute_result"
    }
   ],
   "source": [
    "results_sub2 = pd.read_csv('results_summary_S2.csv')\n",
    "results_sub2.head()"
   ]
  },
  {
   "cell_type": "code",
   "execution_count": 34,
   "metadata": {},
   "outputs": [
    {
     "data": {
      "text/html": [
       "<div>\n",
       "<style scoped>\n",
       "    .dataframe tbody tr th:only-of-type {\n",
       "        vertical-align: middle;\n",
       "    }\n",
       "\n",
       "    .dataframe tbody tr th {\n",
       "        vertical-align: top;\n",
       "    }\n",
       "\n",
       "    .dataframe thead th {\n",
       "        text-align: right;\n",
       "    }\n",
       "</style>\n",
       "<table border=\"1\" class=\"dataframe\">\n",
       "  <thead>\n",
       "    <tr style=\"text-align: right;\">\n",
       "      <th></th>\n",
       "      <th>securities</th>\n",
       "      <th>weights</th>\n",
       "      <th>returns</th>\n",
       "      <th>volatilities</th>\n",
       "      <th>indicators</th>\n",
       "    </tr>\n",
       "  </thead>\n",
       "  <tbody>\n",
       "    <tr>\n",
       "      <th>0</th>\n",
       "      <td>[XLE, XLK, XLY]</td>\n",
       "      <td>[-1.0, 1.0, 1.0]</td>\n",
       "      <td>1.03349</td>\n",
       "      <td>0.535026</td>\n",
       "      <td>[-LEI, LEI, LEI]</td>\n",
       "    </tr>\n",
       "    <tr>\n",
       "      <th>1</th>\n",
       "      <td>[XLE, XLK, XLB]</td>\n",
       "      <td>[-1.0, 1.0, 1.0]</td>\n",
       "      <td>0.959194</td>\n",
       "      <td>0.49258</td>\n",
       "      <td>[-LEI, LEI, ALL]</td>\n",
       "    </tr>\n",
       "    <tr>\n",
       "      <th>2</th>\n",
       "      <td>[XLE, XLK, XLV]</td>\n",
       "      <td>[-1.0, 1.0, 1.0]</td>\n",
       "      <td>0.877348</td>\n",
       "      <td>0.536916</td>\n",
       "      <td>[-LEI, LEI, CEI]</td>\n",
       "    </tr>\n",
       "    <tr>\n",
       "      <th>3</th>\n",
       "      <td>[XLE, XLK, XLP]</td>\n",
       "      <td>[-1.0, 1.0, 1.0]</td>\n",
       "      <td>0.846153</td>\n",
       "      <td>0.533602</td>\n",
       "      <td>[-LEI, LEI, LEI]</td>\n",
       "    </tr>\n",
       "    <tr>\n",
       "      <th>4</th>\n",
       "      <td>[XLE, GDX, XLK]</td>\n",
       "      <td>[-0.74147, 0.74147, 1.0]</td>\n",
       "      <td>0.838323</td>\n",
       "      <td>0.583759</td>\n",
       "      <td>[-LEI, LEI, LEI]</td>\n",
       "    </tr>\n",
       "  </tbody>\n",
       "</table>\n",
       "</div>"
      ],
      "text/plain": [
       "        securities                   weights   returns volatilities  \\\n",
       "0  [XLE, XLK, XLY]          [-1.0, 1.0, 1.0]   1.03349     0.535026   \n",
       "1  [XLE, XLK, XLB]          [-1.0, 1.0, 1.0]  0.959194      0.49258   \n",
       "2  [XLE, XLK, XLV]          [-1.0, 1.0, 1.0]  0.877348     0.536916   \n",
       "3  [XLE, XLK, XLP]          [-1.0, 1.0, 1.0]  0.846153     0.533602   \n",
       "4  [XLE, GDX, XLK]  [-0.74147, 0.74147, 1.0]  0.838323     0.583759   \n",
       "\n",
       "         indicators  \n",
       "0  [-LEI, LEI, LEI]  \n",
       "1  [-LEI, LEI, ALL]  \n",
       "2  [-LEI, LEI, CEI]  \n",
       "3  [-LEI, LEI, LEI]  \n",
       "4  [-LEI, LEI, LEI]  "
      ]
     },
     "execution_count": 34,
     "metadata": {},
     "output_type": "execute_result"
    }
   ],
   "source": [
    "def assign_indicator(df):\n",
    "    results_with_ind = df.copy()\n",
    "    results_with_ind[\"indicators\"] = None\n",
    "    for index, row in results_with_ind.iterrows():\n",
    "        lst_ind = []\n",
    "        for i in range(len(row[\"securities\"])):\n",
    "            security = row[\"securities\"][i]\n",
    "            if row[\"weights\"][i] < 0:\n",
    "                lst_ind.append(\"-\" + list(results_sub2.loc[results_sub2[\"Symbols\"] == security,\"level_0\"])[0])\n",
    "            else: lst_ind.append(list(results_sub2.loc[results_sub2[\"Symbols\"] == security,\"level_0\"])[0])\n",
    "        results_with_ind.iloc[index,4] = list(lst_ind)\n",
    "    return results_with_ind\n",
    "result_ind = assign_indicator(results_2020)\n",
    "result_ind.head()\n"
   ]
  },
  {
   "cell_type": "markdown",
   "metadata": {},
   "source": [
    "### 6.2\tUsing the ranks from 5.5, determine which combinations tend to be the best performing.  Interpret the results.\n"
   ]
  },
  {
   "cell_type": "code",
   "execution_count": 35,
   "metadata": {},
   "outputs": [
    {
     "data": {
      "text/html": [
       "<div>\n",
       "<style scoped>\n",
       "    .dataframe tbody tr th:only-of-type {\n",
       "        vertical-align: middle;\n",
       "    }\n",
       "\n",
       "    .dataframe tbody tr th {\n",
       "        vertical-align: top;\n",
       "    }\n",
       "\n",
       "    .dataframe thead th {\n",
       "        text-align: right;\n",
       "    }\n",
       "</style>\n",
       "<table border=\"1\" class=\"dataframe\">\n",
       "  <thead>\n",
       "    <tr style=\"text-align: right;\">\n",
       "      <th></th>\n",
       "      <th>returns</th>\n",
       "      <th>volatilities</th>\n",
       "    </tr>\n",
       "    <tr>\n",
       "      <th>indicators</th>\n",
       "      <th></th>\n",
       "      <th></th>\n",
       "    </tr>\n",
       "  </thead>\n",
       "  <tbody>\n",
       "    <tr>\n",
       "      <th>(-LEI, LEI, ALL)</th>\n",
       "      <td>0.679148</td>\n",
       "      <td>0.458121</td>\n",
       "    </tr>\n",
       "    <tr>\n",
       "      <th>(-LEI, CEI, ALL)</th>\n",
       "      <td>0.677709</td>\n",
       "      <td>0.424620</td>\n",
       "    </tr>\n",
       "    <tr>\n",
       "      <th>(-LEI, CEI, LEI)</th>\n",
       "      <td>0.658336</td>\n",
       "      <td>0.473368</td>\n",
       "    </tr>\n",
       "    <tr>\n",
       "      <th>(-LEI, LEI, CEI)</th>\n",
       "      <td>0.572871</td>\n",
       "      <td>0.483343</td>\n",
       "    </tr>\n",
       "    <tr>\n",
       "      <th>(CEI, ALL, -LEI)</th>\n",
       "      <td>0.554920</td>\n",
       "      <td>0.481238</td>\n",
       "    </tr>\n",
       "    <tr>\n",
       "      <th>(-LEI, LEI, LEI)</th>\n",
       "      <td>0.537039</td>\n",
       "      <td>0.493123</td>\n",
       "    </tr>\n",
       "    <tr>\n",
       "      <th>(CEI, LEI, -LEI)</th>\n",
       "      <td>0.520030</td>\n",
       "      <td>0.489686</td>\n",
       "    </tr>\n",
       "    <tr>\n",
       "      <th>(LEI, ALL, -LEI)</th>\n",
       "      <td>0.501782</td>\n",
       "      <td>0.493417</td>\n",
       "    </tr>\n",
       "    <tr>\n",
       "      <th>(LEI, CEI, -LEI)</th>\n",
       "      <td>0.393472</td>\n",
       "      <td>0.493449</td>\n",
       "    </tr>\n",
       "    <tr>\n",
       "      <th>(LEI, LEI, -LEI)</th>\n",
       "      <td>0.324657</td>\n",
       "      <td>0.523002</td>\n",
       "    </tr>\n",
       "    <tr>\n",
       "      <th>(-CEI, LEI, ALL)</th>\n",
       "      <td>0.255059</td>\n",
       "      <td>0.426515</td>\n",
       "    </tr>\n",
       "    <tr>\n",
       "      <th>(-CEI, LEI, LEI)</th>\n",
       "      <td>0.235686</td>\n",
       "      <td>0.338214</td>\n",
       "    </tr>\n",
       "    <tr>\n",
       "      <th>(LEI, -CEI, ALL)</th>\n",
       "      <td>0.191426</td>\n",
       "      <td>0.535685</td>\n",
       "    </tr>\n",
       "    <tr>\n",
       "      <th>(LEI, -CEI, LEI)</th>\n",
       "      <td>0.181718</td>\n",
       "      <td>0.466410</td>\n",
       "    </tr>\n",
       "    <tr>\n",
       "      <th>(LEI, -LEI, LEI)</th>\n",
       "      <td>0.162315</td>\n",
       "      <td>0.507400</td>\n",
       "    </tr>\n",
       "    <tr>\n",
       "      <th>(LEI, LEI, -CEI)</th>\n",
       "      <td>0.136817</td>\n",
       "      <td>0.553765</td>\n",
       "    </tr>\n",
       "    <tr>\n",
       "      <th>(LEI, LEI, -ALL)</th>\n",
       "      <td>0.091305</td>\n",
       "      <td>0.444689</td>\n",
       "    </tr>\n",
       "  </tbody>\n",
       "</table>\n",
       "</div>"
      ],
      "text/plain": [
       "                   returns  volatilities\n",
       "indicators                              \n",
       "(-LEI, LEI, ALL)  0.679148      0.458121\n",
       "(-LEI, CEI, ALL)  0.677709      0.424620\n",
       "(-LEI, CEI, LEI)  0.658336      0.473368\n",
       "(-LEI, LEI, CEI)  0.572871      0.483343\n",
       "(CEI, ALL, -LEI)  0.554920      0.481238\n",
       "(-LEI, LEI, LEI)  0.537039      0.493123\n",
       "(CEI, LEI, -LEI)  0.520030      0.489686\n",
       "(LEI, ALL, -LEI)  0.501782      0.493417\n",
       "(LEI, CEI, -LEI)  0.393472      0.493449\n",
       "(LEI, LEI, -LEI)  0.324657      0.523002\n",
       "(-CEI, LEI, ALL)  0.255059      0.426515\n",
       "(-CEI, LEI, LEI)  0.235686      0.338214\n",
       "(LEI, -CEI, ALL)  0.191426      0.535685\n",
       "(LEI, -CEI, LEI)  0.181718      0.466410\n",
       "(LEI, -LEI, LEI)  0.162315      0.507400\n",
       "(LEI, LEI, -CEI)  0.136817      0.553765\n",
       "(LEI, LEI, -ALL)  0.091305      0.444689"
      ]
     },
     "execution_count": 35,
     "metadata": {},
     "output_type": "execute_result"
    }
   ],
   "source": [
    "result_ind[[\"indicators\",\"returns\",\"volatilities\"]].astype({\"returns\":'float64','volatilities':'float64'}).groupby(result_ind[\"indicators\"].map(tuple))[[\"returns\",\"volatilities\"]].mean().sort_values(\"returns\", ascending = False)"
   ]
  },
  {
   "cell_type": "markdown",
   "metadata": {},
   "source": [
    "The best returns are given on average by a combination of funds explained by either Leading indicators or all indicators. As stated in the previous submission, funds explained mostly by Leading Indicators are funds that track the main sources of input and output in the economy. These funds are linked to value adding companies and they are the main source of economic growth and therefore of investment return. This explains why the highest returns are found in these funds. It should be noted however that the volatilities are relatively high for these portfolios. "
   ]
  },
  {
   "cell_type": "markdown",
   "metadata": {},
   "source": [
    "# 7\tCategory 4 Portfolios: Using Principal Components"
   ]
  },
  {
   "cell_type": "markdown",
   "metadata": {},
   "source": [
    "## 7.1 Compute the PCA from the correlation matrix of the 11 ETFs."
   ]
  },
  {
   "cell_type": "code",
   "execution_count": 36,
   "metadata": {},
   "outputs": [
    {
     "data": {
      "image/png": "[encoded data removed]",
      "text/plain": [
       "<Figure size 432x288 with 1 Axes>"
      ]
     },
     "metadata": {
      "needs_background": "light"
     },
     "output_type": "display_data"
    },
    {
     "data": {
      "text/html": [
       "<div>\n",
       "<style scoped>\n",
       "    .dataframe tbody tr th:only-of-type {\n",
       "        vertical-align: middle;\n",
       "    }\n",
       "\n",
       "    .dataframe tbody tr th {\n",
       "        vertical-align: top;\n",
       "    }\n",
       "\n",
       "    .dataframe thead th {\n",
       "        text-align: right;\n",
       "    }\n",
       "</style>\n",
       "<table border=\"1\" class=\"dataframe\">\n",
       "  <thead>\n",
       "    <tr style=\"text-align: right;\">\n",
       "      <th></th>\n",
       "      <th>weights</th>\n",
       "      <th>returns</th>\n",
       "      <th>std</th>\n",
       "      <th>sharpe</th>\n",
       "    </tr>\n",
       "  </thead>\n",
       "  <tbody>\n",
       "    <tr>\n",
       "      <th>0.252985</th>\n",
       "      <td>(0.37161, 0.00636, 0.62203)</td>\n",
       "      <td>0.290844</td>\n",
       "      <td>0.252985</td>\n",
       "      <td>1.07059</td>\n",
       "    </tr>\n",
       "    <tr>\n",
       "      <th>0.253333</th>\n",
       "      <td>(0.37281, 0.00474, 0.62245)</td>\n",
       "      <td>0.292238</td>\n",
       "      <td>0.253333</td>\n",
       "      <td>1.07463</td>\n",
       "    </tr>\n",
       "    <tr>\n",
       "      <th>0.253680</th>\n",
       "      <td>(0.37402, 0.00312, 0.62286)</td>\n",
       "      <td>0.29363</td>\n",
       "      <td>0.25368</td>\n",
       "      <td>1.07864</td>\n",
       "    </tr>\n",
       "    <tr>\n",
       "      <th>0.254027</th>\n",
       "      <td>(0.37522, 0.00151, 0.62327)</td>\n",
       "      <td>0.29502</td>\n",
       "      <td>0.254027</td>\n",
       "      <td>1.08264</td>\n",
       "    </tr>\n",
       "    <tr>\n",
       "      <th>0.254375</th>\n",
       "      <td>(0.37652, 0.0, 0.62348)</td>\n",
       "      <td>0.296407</td>\n",
       "      <td>0.254375</td>\n",
       "      <td>1.08661</td>\n",
       "    </tr>\n",
       "    <tr>\n",
       "      <th>...</th>\n",
       "      <td>...</td>\n",
       "      <td>...</td>\n",
       "      <td>...</td>\n",
       "      <td>...</td>\n",
       "    </tr>\n",
       "    <tr>\n",
       "      <th>0.598611</th>\n",
       "      <td>(1.0, 0.0, 0.0)</td>\n",
       "      <td>0.609369</td>\n",
       "      <td>0.42767</td>\n",
       "      <td>1.37809</td>\n",
       "    </tr>\n",
       "    <tr>\n",
       "      <th>0.598958</th>\n",
       "      <td>(1.0, 0.0, 0.0)</td>\n",
       "      <td>0.609369</td>\n",
       "      <td>0.42767</td>\n",
       "      <td>1.37809</td>\n",
       "    </tr>\n",
       "    <tr>\n",
       "      <th>0.599305</th>\n",
       "      <td>(1.0, 0.0, 0.0)</td>\n",
       "      <td>0.609369</td>\n",
       "      <td>0.42767</td>\n",
       "      <td>1.37809</td>\n",
       "    </tr>\n",
       "    <tr>\n",
       "      <th>0.599653</th>\n",
       "      <td>(1.0, 0.0, 0.0)</td>\n",
       "      <td>0.609369</td>\n",
       "      <td>0.42767</td>\n",
       "      <td>1.37809</td>\n",
       "    </tr>\n",
       "    <tr>\n",
       "      <th>0.600000</th>\n",
       "      <td>(1.0, 0.0, 0.0)</td>\n",
       "      <td>0.609369</td>\n",
       "      <td>0.42767</td>\n",
       "      <td>1.37809</td>\n",
       "    </tr>\n",
       "  </tbody>\n",
       "</table>\n",
       "<p>1000 rows × 4 columns</p>\n",
       "</div>"
      ],
      "text/plain": [
       "                              weights   returns       std   sharpe\n",
       "0.252985  (0.37161, 0.00636, 0.62203)  0.290844  0.252985  1.07059\n",
       "0.253333  (0.37281, 0.00474, 0.62245)  0.292238  0.253333  1.07463\n",
       "0.253680  (0.37402, 0.00312, 0.62286)   0.29363   0.25368  1.07864\n",
       "0.254027  (0.37522, 0.00151, 0.62327)   0.29502  0.254027  1.08264\n",
       "0.254375      (0.37652, 0.0, 0.62348)  0.296407  0.254375  1.08661\n",
       "...                               ...       ...       ...      ...\n",
       "0.598611              (1.0, 0.0, 0.0)  0.609369   0.42767  1.37809\n",
       "0.598958              (1.0, 0.0, 0.0)  0.609369   0.42767  1.37809\n",
       "0.599305              (1.0, 0.0, 0.0)  0.609369   0.42767  1.37809\n",
       "0.599653              (1.0, 0.0, 0.0)  0.609369   0.42767  1.37809\n",
       "0.600000              (1.0, 0.0, 0.0)  0.609369   0.42767  1.37809\n",
       "\n",
       "[1000 rows x 4 columns]"
      ]
     },
     "execution_count": 36,
     "metadata": {},
     "output_type": "execute_result"
    }
   ],
   "source": [
    "from sklearn.decomposition import PCA\n",
    "# standardize returns\n",
    "returns_z = (train-train.mean())/train.std()\n",
    "#PCA\n",
    "pca = PCA(n_components = 3)\n",
    "pca.fit(returns_z)\n",
    "\n",
    "#Get transformed returns from components\n",
    "trans_return = pd.DataFrame(pca.transform(train), index = train.index)\n",
    "\n",
    "FigPortFolioopt(trans_return,min(trans_return.std()*np.sqrt(252)))"
   ]
  },
  {
   "cell_type": "markdown",
   "metadata": {},
   "source": [
    "We consider the transformed returns to be the new portfolio returns and we assign a weight to each portfolio in proportion of it's contribution to the total variance."
   ]
  },
  {
   "cell_type": "code",
   "execution_count": 37,
   "metadata": {},
   "outputs": [
    {
     "name": "stdout",
     "output_type": "stream",
     "text": [
      "35.56733263068702 33.10935380451504\n"
     ]
    }
   ],
   "source": [
    "#Define weights\n",
    "weights_pca = pca.explained_variance_/sum(pca.explained_variance_)\n",
    "#Compute the overall return of the portfolio \n",
    "return_pca = portreturn_2(trans_return,weights_pca,1)\n",
    "std_pca = portstd_2(trans_return,weights_pca)\n",
    "print(return_pca*100, std_pca*100)"
   ]
  },
  {
   "cell_type": "markdown",
   "metadata": {},
   "source": [
    "## 7.2 How does the PCA portfolio return compare to the 2019  3-security portfolio returns?\n"
   ]
  },
  {
   "cell_type": "markdown",
   "metadata": {},
   "source": [
    "The return of the portfolio is lower than these of the best 3-security portfolio. However the volatility is lower and this portfolio could be a better choice for a more risk averse investor."
   ]
  },
  {
   "cell_type": "markdown",
   "metadata": {},
   "source": [
    "## 7.3 Assuming a fixed amount of risk, and 2020 data, use the PC weights to compute the 3-PC portfolio returns.\n"
   ]
  },
  {
   "cell_type": "code",
   "execution_count": 38,
   "metadata": {},
   "outputs": [
    {
     "data": {
      "image/png": "[encoded data removed]",
      "text/plain": [
       "<Figure size 432x288 with 1 Axes>"
      ]
     },
     "metadata": {
      "needs_background": "light"
     },
     "output_type": "display_data"
    },
    {
     "data": {
      "text/html": [
       "<div>\n",
       "<style scoped>\n",
       "    .dataframe tbody tr th:only-of-type {\n",
       "        vertical-align: middle;\n",
       "    }\n",
       "\n",
       "    .dataframe tbody tr th {\n",
       "        vertical-align: top;\n",
       "    }\n",
       "\n",
       "    .dataframe thead th {\n",
       "        text-align: right;\n",
       "    }\n",
       "</style>\n",
       "<table border=\"1\" class=\"dataframe\">\n",
       "  <thead>\n",
       "    <tr style=\"text-align: right;\">\n",
       "      <th></th>\n",
       "      <th>weights</th>\n",
       "      <th>returns</th>\n",
       "      <th>std</th>\n",
       "      <th>sharpe</th>\n",
       "    </tr>\n",
       "  </thead>\n",
       "  <tbody>\n",
       "    <tr>\n",
       "      <th>0.487171</th>\n",
       "      <td>(0.0, 0.32992, 0.67008)</td>\n",
       "      <td>-0.275181</td>\n",
       "      <td>0.487171</td>\n",
       "      <td>-0.605909</td>\n",
       "    </tr>\n",
       "    <tr>\n",
       "      <th>0.487284</th>\n",
       "      <td>(0.0, 0.3297, 0.6703)</td>\n",
       "      <td>-0.275132</td>\n",
       "      <td>0.487284</td>\n",
       "      <td>-0.605668</td>\n",
       "    </tr>\n",
       "    <tr>\n",
       "      <th>0.487396</th>\n",
       "      <td>(0.0, 0.32947, 0.67053)</td>\n",
       "      <td>-0.275083</td>\n",
       "      <td>0.487397</td>\n",
       "      <td>-0.605427</td>\n",
       "    </tr>\n",
       "    <tr>\n",
       "      <th>0.487509</th>\n",
       "      <td>(0.0, 0.32925, 0.67075)</td>\n",
       "      <td>-0.275034</td>\n",
       "      <td>0.487509</td>\n",
       "      <td>-0.605186</td>\n",
       "    </tr>\n",
       "    <tr>\n",
       "      <th>0.487622</th>\n",
       "      <td>(0.0, 0.32902, 0.67098)</td>\n",
       "      <td>-0.274985</td>\n",
       "      <td>0.487622</td>\n",
       "      <td>-0.604945</td>\n",
       "    </tr>\n",
       "    <tr>\n",
       "      <th>...</th>\n",
       "      <td>...</td>\n",
       "      <td>...</td>\n",
       "      <td>...</td>\n",
       "      <td>...</td>\n",
       "    </tr>\n",
       "    <tr>\n",
       "      <th>0.599548</th>\n",
       "      <td>(0.0, 0.13619, 0.86381)</td>\n",
       "      <td>-0.232822</td>\n",
       "      <td>0.599548</td>\n",
       "      <td>-0.421688</td>\n",
       "    </tr>\n",
       "    <tr>\n",
       "      <th>0.599661</th>\n",
       "      <td>(0.0, 0.13602, 0.86398)</td>\n",
       "      <td>-0.232784</td>\n",
       "      <td>0.599661</td>\n",
       "      <td>-0.421545</td>\n",
       "    </tr>\n",
       "    <tr>\n",
       "      <th>0.599774</th>\n",
       "      <td>(0.0, 0.13584, 0.86416)</td>\n",
       "      <td>-0.232746</td>\n",
       "      <td>0.599774</td>\n",
       "      <td>-0.421401</td>\n",
       "    </tr>\n",
       "    <tr>\n",
       "      <th>0.599887</th>\n",
       "      <td>(0.0, 0.13567, 0.86433)</td>\n",
       "      <td>-0.232707</td>\n",
       "      <td>0.599887</td>\n",
       "      <td>-0.421258</td>\n",
       "    </tr>\n",
       "    <tr>\n",
       "      <th>0.600000</th>\n",
       "      <td>(0.0, 0.13549, 0.86451)</td>\n",
       "      <td>-0.232669</td>\n",
       "      <td>0.6</td>\n",
       "      <td>-0.421115</td>\n",
       "    </tr>\n",
       "  </tbody>\n",
       "</table>\n",
       "<p>1000 rows × 4 columns</p>\n",
       "</div>"
      ],
      "text/plain": [
       "                          weights   returns       std    sharpe\n",
       "0.487171  (0.0, 0.32992, 0.67008) -0.275181  0.487171 -0.605909\n",
       "0.487284    (0.0, 0.3297, 0.6703) -0.275132  0.487284 -0.605668\n",
       "0.487396  (0.0, 0.32947, 0.67053) -0.275083  0.487397 -0.605427\n",
       "0.487509  (0.0, 0.32925, 0.67075) -0.275034  0.487509 -0.605186\n",
       "0.487622  (0.0, 0.32902, 0.67098) -0.274985  0.487622 -0.604945\n",
       "...                           ...       ...       ...       ...\n",
       "0.599548  (0.0, 0.13619, 0.86381) -0.232822  0.599548 -0.421688\n",
       "0.599661  (0.0, 0.13602, 0.86398) -0.232784  0.599661 -0.421545\n",
       "0.599774  (0.0, 0.13584, 0.86416) -0.232746  0.599774 -0.421401\n",
       "0.599887  (0.0, 0.13567, 0.86433) -0.232707  0.599887 -0.421258\n",
       "0.600000  (0.0, 0.13549, 0.86451) -0.232669       0.6 -0.421115\n",
       "\n",
       "[1000 rows x 4 columns]"
      ]
     },
     "execution_count": 38,
     "metadata": {},
     "output_type": "execute_result"
    }
   ],
   "source": [
    "trans_returns_2020 = pd.DataFrame(pca.transform(test), index = test.index)\n",
    "FigPortFolioopt(trans_returns_2020,min(trans_returns_2020.std()*np.sqrt(252)))"
   ]
  },
  {
   "cell_type": "code",
   "execution_count": 39,
   "metadata": {},
   "outputs": [
    {
     "name": "stdout",
     "output_type": "stream",
     "text": [
      "-33.447689828296404 85.7684992985759\n"
     ]
    }
   ],
   "source": [
    "#Compute the overall return of the portfolio \n",
    "return_pca_2020 = portreturn_2(trans_returns_2020,weights_pca,1)\n",
    "std_pca_2020 = portstd_2(trans_returns_2020,weights_pca)\n",
    "print(return_pca_2020*100, std_pca_2020*100)"
   ]
  },
  {
   "cell_type": "markdown",
   "metadata": {},
   "source": [
    "For 2020, the PCA porfolio performs much worse than the previous 3-security portfolio. By choosing the combination of ETF that explain most of the variance we do not differentiate between positive and negative variance. As negative returns are usually more extreme than positive one, it is not unlikely that choosing the most variance diminishes the overall return as we also get more extreme negative returns.The recent crisis linked to the coronavirus could have put pressure on funds that had a strong volatility of returns in 2019."
   ]
  }
 ],
 "metadata": {
  "kernelspec": {
   "display_name": "Python 3",
   "language": "python",
   "name": "python3"
  },
  "language_info": {
   "codemirror_mode": {
    "name": "ipython",
    "version": 3
   },
   "file_extension": ".py",
   "mimetype": "text/x-python",
   "name": "python",
   "nbconvert_exporter": "python",
   "pygments_lexer": "ipython3",
   "version": "3.8.8"
  }
 },
 "nbformat": 4,
 "nbformat_minor": 4
}
