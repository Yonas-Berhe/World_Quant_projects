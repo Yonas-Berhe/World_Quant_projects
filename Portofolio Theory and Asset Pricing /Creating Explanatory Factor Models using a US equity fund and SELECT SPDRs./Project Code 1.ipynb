{
 "cells": [
  {
   "cell_type": "code",
   "execution_count": 1,
   "metadata": {},
   "outputs": [],
   "source": [
    "import pandas as pd\n",
    "import copulas\n",
    "import copulae\n",
    "from pandas_datareader import data\n",
    "from scipy import stats\n",
    "import numpy as np\n",
    "from matplotlib import pyplot as plt\n",
    "from copulas.multivariate import GaussianMultivariate\n",
    "from copulas.visualization import compare_3d\n",
    "from sklearn.linear_model import LinearRegression, Lasso\n",
    "from sklearn.model_selection import train_test_split, cross_val_score\n",
    "from sklearn.metrics import mean_squared_error, r2_score\n",
    "from sklearn.decomposition import PCA\n",
    "from sklearn.tree import DecisionTreeRegressor\n",
    "from sklearn.svm import LinearSVR\n",
    "from sklearn.pipeline import make_pipeline\n",
    "from sklearn.preprocessing import StandardScaler"
   ]
  },
  {
   "cell_type": "markdown",
   "metadata": {},
   "source": [
    "# Creating Explanatory Factor Models"
   ]
  },
  {
   "cell_type": "markdown",
   "metadata": {},
   "source": [
    "## Data Importing"
   ]
  },
  {
   "cell_type": "code",
   "execution_count": 2,
   "metadata": {},
   "outputs": [
    {
     "data": {
      "text/html": [
       "<div>\n",
       "<style scoped>\n",
       "    .dataframe tbody tr th:only-of-type {\n",
       "        vertical-align: middle;\n",
       "    }\n",
       "\n",
       "    .dataframe tbody tr th {\n",
       "        vertical-align: top;\n",
       "    }\n",
       "\n",
       "    .dataframe thead th {\n",
       "        text-align: right;\n",
       "    }\n",
       "</style>\n",
       "<table border=\"1\" class=\"dataframe\">\n",
       "  <thead>\n",
       "    <tr style=\"text-align: right;\">\n",
       "      <th>Symbols</th>\n",
       "      <th>XLE</th>\n",
       "      <th>XLF</th>\n",
       "      <th>XLU</th>\n",
       "      <th>XLI</th>\n",
       "      <th>GDX</th>\n",
       "      <th>XLK</th>\n",
       "      <th>XLV</th>\n",
       "      <th>XLY</th>\n",
       "      <th>XLP</th>\n",
       "      <th>XLB</th>\n",
       "      <th>XOP</th>\n",
       "      <th>SPY</th>\n",
       "    </tr>\n",
       "    <tr>\n",
       "      <th>Date</th>\n",
       "      <th></th>\n",
       "      <th></th>\n",
       "      <th></th>\n",
       "      <th></th>\n",
       "      <th></th>\n",
       "      <th></th>\n",
       "      <th></th>\n",
       "      <th></th>\n",
       "      <th></th>\n",
       "      <th></th>\n",
       "      <th></th>\n",
       "      <th></th>\n",
       "    </tr>\n",
       "  </thead>\n",
       "  <tbody>\n",
       "    <tr>\n",
       "      <th>2014-01-02</th>\n",
       "      <td>87.250000</td>\n",
       "      <td>17.660439</td>\n",
       "      <td>37.389999</td>\n",
       "      <td>51.529999</td>\n",
       "      <td>22.030001</td>\n",
       "      <td>35.389999</td>\n",
       "      <td>55.130001</td>\n",
       "      <td>66.519997</td>\n",
       "      <td>42.450001</td>\n",
       "      <td>45.849998</td>\n",
       "      <td>268.440002</td>\n",
       "      <td>182.919998</td>\n",
       "    </tr>\n",
       "    <tr>\n",
       "      <th>2014-01-03</th>\n",
       "      <td>86.930000</td>\n",
       "      <td>17.782291</td>\n",
       "      <td>37.270000</td>\n",
       "      <td>51.669998</td>\n",
       "      <td>21.830000</td>\n",
       "      <td>35.220001</td>\n",
       "      <td>55.259998</td>\n",
       "      <td>66.339996</td>\n",
       "      <td>42.369999</td>\n",
       "      <td>45.740002</td>\n",
       "      <td>266.000000</td>\n",
       "      <td>182.889999</td>\n",
       "    </tr>\n",
       "    <tr>\n",
       "      <th>2014-01-06</th>\n",
       "      <td>87.050003</td>\n",
       "      <td>17.798538</td>\n",
       "      <td>37.330002</td>\n",
       "      <td>51.369999</td>\n",
       "      <td>21.930000</td>\n",
       "      <td>35.160000</td>\n",
       "      <td>55.029999</td>\n",
       "      <td>65.930000</td>\n",
       "      <td>42.209999</td>\n",
       "      <td>45.490002</td>\n",
       "      <td>264.559998</td>\n",
       "      <td>182.360001</td>\n",
       "    </tr>\n",
       "    <tr>\n",
       "      <th>2014-01-07</th>\n",
       "      <td>87.709999</td>\n",
       "      <td>17.806662</td>\n",
       "      <td>37.660000</td>\n",
       "      <td>51.689999</td>\n",
       "      <td>21.969999</td>\n",
       "      <td>35.480000</td>\n",
       "      <td>55.610001</td>\n",
       "      <td>66.330002</td>\n",
       "      <td>42.439999</td>\n",
       "      <td>45.410000</td>\n",
       "      <td>267.000000</td>\n",
       "      <td>183.479996</td>\n",
       "    </tr>\n",
       "    <tr>\n",
       "      <th>2014-01-08</th>\n",
       "      <td>87.099998</td>\n",
       "      <td>17.863525</td>\n",
       "      <td>37.459999</td>\n",
       "      <td>51.599998</td>\n",
       "      <td>21.610001</td>\n",
       "      <td>35.480000</td>\n",
       "      <td>56.099998</td>\n",
       "      <td>66.150002</td>\n",
       "      <td>42.119999</td>\n",
       "      <td>45.680000</td>\n",
       "      <td>265.799988</td>\n",
       "      <td>183.520004</td>\n",
       "    </tr>\n",
       "  </tbody>\n",
       "</table>\n",
       "</div>"
      ],
      "text/plain": [
       "Symbols           XLE        XLF        XLU        XLI        GDX        XLK  \\\n",
       "Date                                                                           \n",
       "2014-01-02  87.250000  17.660439  37.389999  51.529999  22.030001  35.389999   \n",
       "2014-01-03  86.930000  17.782291  37.270000  51.669998  21.830000  35.220001   \n",
       "2014-01-06  87.050003  17.798538  37.330002  51.369999  21.930000  35.160000   \n",
       "2014-01-07  87.709999  17.806662  37.660000  51.689999  21.969999  35.480000   \n",
       "2014-01-08  87.099998  17.863525  37.459999  51.599998  21.610001  35.480000   \n",
       "\n",
       "Symbols           XLV        XLY        XLP        XLB         XOP         SPY  \n",
       "Date                                                                            \n",
       "2014-01-02  55.130001  66.519997  42.450001  45.849998  268.440002  182.919998  \n",
       "2014-01-03  55.259998  66.339996  42.369999  45.740002  266.000000  182.889999  \n",
       "2014-01-06  55.029999  65.930000  42.209999  45.490002  264.559998  182.360001  \n",
       "2014-01-07  55.610001  66.330002  42.439999  45.410000  267.000000  183.479996  \n",
       "2014-01-08  56.099998  66.150002  42.119999  45.680000  265.799988  183.520004  "
      ]
     },
     "execution_count": 2,
     "metadata": {},
     "output_type": "execute_result"
    }
   ],
   "source": [
    "# Set start and end dates\n",
    "start_date = '2014-01-01'\n",
    "end_date = '2019-12-31'\n",
    "\n",
    "# Get the data\n",
    "data = data.get_data_yahoo([\"XLE\",\"XLF\",\"XLU\",\"XLI\",\"GDX\",\"XLK\",\"XLV\",\"XLY\",\"XLP\",\"XLB\",\"XOP\",\"SPY\"], start_date, end_date)['Close']\n",
    "data.head()"
   ]
  },
  {
   "cell_type": "markdown",
   "metadata": {},
   "source": [
    "## Data Processing"
   ]
  },
  {
   "cell_type": "code",
   "execution_count": 3,
   "metadata": {},
   "outputs": [
    {
     "data": {
      "text/html": [
       "<div>\n",
       "<style scoped>\n",
       "    .dataframe tbody tr th:only-of-type {\n",
       "        vertical-align: middle;\n",
       "    }\n",
       "\n",
       "    .dataframe tbody tr th {\n",
       "        vertical-align: top;\n",
       "    }\n",
       "\n",
       "    .dataframe thead th {\n",
       "        text-align: right;\n",
       "    }\n",
       "</style>\n",
       "<table border=\"1\" class=\"dataframe\">\n",
       "  <thead>\n",
       "    <tr style=\"text-align: right;\">\n",
       "      <th>Symbols</th>\n",
       "      <th>XLE</th>\n",
       "      <th>XLF</th>\n",
       "      <th>XLU</th>\n",
       "      <th>XLI</th>\n",
       "      <th>GDX</th>\n",
       "      <th>XLK</th>\n",
       "      <th>XLV</th>\n",
       "      <th>XLY</th>\n",
       "      <th>XLP</th>\n",
       "      <th>XLB</th>\n",
       "      <th>XOP</th>\n",
       "      <th>SPY</th>\n",
       "    </tr>\n",
       "    <tr>\n",
       "      <th>Date</th>\n",
       "      <th></th>\n",
       "      <th></th>\n",
       "      <th></th>\n",
       "      <th></th>\n",
       "      <th></th>\n",
       "      <th></th>\n",
       "      <th></th>\n",
       "      <th></th>\n",
       "      <th></th>\n",
       "      <th></th>\n",
       "      <th></th>\n",
       "      <th></th>\n",
       "    </tr>\n",
       "  </thead>\n",
       "  <tbody>\n",
       "    <tr>\n",
       "      <th>2014-01-03</th>\n",
       "      <td>-0.003668</td>\n",
       "      <td>0.006900</td>\n",
       "      <td>-0.003209</td>\n",
       "      <td>0.002717</td>\n",
       "      <td>-0.009079</td>\n",
       "      <td>-0.004804</td>\n",
       "      <td>0.002358</td>\n",
       "      <td>-0.002706</td>\n",
       "      <td>-0.001885</td>\n",
       "      <td>-0.002399</td>\n",
       "      <td>-0.009090</td>\n",
       "      <td>-0.000164</td>\n",
       "    </tr>\n",
       "    <tr>\n",
       "      <th>2014-01-06</th>\n",
       "      <td>0.001380</td>\n",
       "      <td>0.000914</td>\n",
       "      <td>0.001610</td>\n",
       "      <td>-0.005806</td>\n",
       "      <td>0.004581</td>\n",
       "      <td>-0.001704</td>\n",
       "      <td>-0.004162</td>\n",
       "      <td>-0.006180</td>\n",
       "      <td>-0.003776</td>\n",
       "      <td>-0.005466</td>\n",
       "      <td>-0.005414</td>\n",
       "      <td>-0.002898</td>\n",
       "    </tr>\n",
       "    <tr>\n",
       "      <th>2014-01-07</th>\n",
       "      <td>0.007582</td>\n",
       "      <td>0.000456</td>\n",
       "      <td>0.008840</td>\n",
       "      <td>0.006229</td>\n",
       "      <td>0.001824</td>\n",
       "      <td>0.009101</td>\n",
       "      <td>0.010540</td>\n",
       "      <td>0.006067</td>\n",
       "      <td>0.005449</td>\n",
       "      <td>-0.001759</td>\n",
       "      <td>0.009223</td>\n",
       "      <td>0.006142</td>\n",
       "    </tr>\n",
       "    <tr>\n",
       "      <th>2014-01-08</th>\n",
       "      <td>-0.006955</td>\n",
       "      <td>0.003193</td>\n",
       "      <td>-0.005311</td>\n",
       "      <td>-0.001741</td>\n",
       "      <td>-0.016386</td>\n",
       "      <td>0.000000</td>\n",
       "      <td>0.008811</td>\n",
       "      <td>-0.002714</td>\n",
       "      <td>-0.007540</td>\n",
       "      <td>0.005946</td>\n",
       "      <td>-0.004494</td>\n",
       "      <td>0.000218</td>\n",
       "    </tr>\n",
       "    <tr>\n",
       "      <th>2014-01-09</th>\n",
       "      <td>-0.003100</td>\n",
       "      <td>0.003638</td>\n",
       "      <td>0.005873</td>\n",
       "      <td>0.004845</td>\n",
       "      <td>-0.015733</td>\n",
       "      <td>-0.006483</td>\n",
       "      <td>0.007487</td>\n",
       "      <td>-0.000151</td>\n",
       "      <td>0.005223</td>\n",
       "      <td>-0.003940</td>\n",
       "      <td>-0.004063</td>\n",
       "      <td>0.000654</td>\n",
       "    </tr>\n",
       "  </tbody>\n",
       "</table>\n",
       "</div>"
      ],
      "text/plain": [
       "Symbols          XLE       XLF       XLU       XLI       GDX       XLK  \\\n",
       "Date                                                                     \n",
       "2014-01-03 -0.003668  0.006900 -0.003209  0.002717 -0.009079 -0.004804   \n",
       "2014-01-06  0.001380  0.000914  0.001610 -0.005806  0.004581 -0.001704   \n",
       "2014-01-07  0.007582  0.000456  0.008840  0.006229  0.001824  0.009101   \n",
       "2014-01-08 -0.006955  0.003193 -0.005311 -0.001741 -0.016386  0.000000   \n",
       "2014-01-09 -0.003100  0.003638  0.005873  0.004845 -0.015733 -0.006483   \n",
       "\n",
       "Symbols          XLV       XLY       XLP       XLB       XOP       SPY  \n",
       "Date                                                                    \n",
       "2014-01-03  0.002358 -0.002706 -0.001885 -0.002399 -0.009090 -0.000164  \n",
       "2014-01-06 -0.004162 -0.006180 -0.003776 -0.005466 -0.005414 -0.002898  \n",
       "2014-01-07  0.010540  0.006067  0.005449 -0.001759  0.009223  0.006142  \n",
       "2014-01-08  0.008811 -0.002714 -0.007540  0.005946 -0.004494  0.000218  \n",
       "2014-01-09  0.007487 -0.000151  0.005223 -0.003940 -0.004063  0.000654  "
      ]
     },
     "execution_count": 3,
     "metadata": {},
     "output_type": "execute_result"
    }
   ],
   "source": [
    "returns = data.pct_change().dropna()\n",
    "returns.head()"
   ]
  },
  {
   "cell_type": "markdown",
   "metadata": {},
   "source": [
    "## Data Summaries - Extreme Values"
   ]
  },
  {
   "cell_type": "code",
   "execution_count": 4,
   "metadata": {},
   "outputs": [
    {
     "data": {
      "text/plain": [
       "Symbols\n",
       "XLE   -0.000161\n",
       "XLF    0.000422\n",
       "XLU    0.000402\n",
       "XLI    0.000349\n",
       "GDX    0.000458\n",
       "XLK    0.000687\n",
       "XLV    0.000451\n",
       "XLY    0.000463\n",
       "XLP    0.000289\n",
       "XLB    0.000246\n",
       "XOP   -0.000449\n",
       "SPY    0.000409\n",
       "dtype: float64"
      ]
     },
     "execution_count": 4,
     "metadata": {},
     "output_type": "execute_result"
    }
   ],
   "source": [
    "    mean_returns = returns.mean()\n",
    "    mean_returns"
   ]
  },
  {
   "cell_type": "code",
   "execution_count": 5,
   "metadata": {},
   "outputs": [
    {
     "data": {
      "text/plain": [
       "Symbols\n",
       "XLE   -0.000060\n",
       "XLF    0.000624\n",
       "XLU    0.000631\n",
       "XLI    0.000569\n",
       "GDX    0.000479\n",
       "XLK    0.000923\n",
       "XLV    0.000629\n",
       "XLY    0.000693\n",
       "XLP    0.000462\n",
       "XLB    0.000400\n",
       "XOP   -0.000550\n",
       "SPY    0.000643\n",
       "dtype: float64"
      ]
     },
     "execution_count": 5,
     "metadata": {},
     "output_type": "execute_result"
    }
   ],
   "source": [
    "trim_means = pd.Series(stats.trim_mean(returns, 0.05), index= mean_returns.index)\n",
    "trim_means"
   ]
  },
  {
   "cell_type": "markdown",
   "metadata": {},
   "source": [
    "The lowest and highest 5% percentiles were considered outliers and were excluded from the mean computation."
   ]
  },
  {
   "cell_type": "code",
   "execution_count": 6,
   "metadata": {},
   "outputs": [
    {
     "data": {
      "text/plain": [
       "Symbols\n",
       "XLE    0.014201\n",
       "XLF    0.010752\n",
       "XLU    0.009971\n",
       "XLI    0.009762\n",
       "GDX    0.025338\n",
       "XLK    0.010191\n",
       "XLV    0.009959\n",
       "XLY    0.009759\n",
       "XLP    0.008184\n",
       "XLB    0.011526\n",
       "XOP    0.025626\n",
       "SPY    0.007672\n",
       "dtype: float64"
      ]
     },
     "execution_count": 6,
     "metadata": {},
     "output_type": "execute_result"
    }
   ],
   "source": [
    "def find_iqr(x):\n",
    "    return np.subtract(np.percentile(x, 75),np.percentile(x, 25))\n",
    "iqr = returns.apply(find_iqr)\n",
    "iqr"
   ]
  },
  {
   "cell_type": "code",
   "execution_count": 7,
   "metadata": {},
   "outputs": [
    {
     "data": {
      "text/plain": [
       "Symbols\n",
       "XLE    0.013144\n",
       "XLF    0.010388\n",
       "XLU    0.008848\n",
       "XLI    0.009485\n",
       "GDX    0.023219\n",
       "XLK    0.010596\n",
       "XLV    0.009414\n",
       "XLY    0.009250\n",
       "XLP    0.007353\n",
       "XLB    0.010248\n",
       "XOP    0.021962\n",
       "SPY    0.008286\n",
       "dtype: float64"
      ]
     },
     "execution_count": 7,
     "metadata": {},
     "output_type": "execute_result"
    }
   ],
   "source": [
    "std = returns.std()\n",
    "std"
   ]
  },
  {
   "cell_type": "markdown",
   "metadata": {},
   "source": [
    "Both these indicators measure the spread of the data (i.e. the returns)"
   ]
  },
  {
   "cell_type": "code",
   "execution_count": 8,
   "metadata": {},
   "outputs": [
    {
     "data": {
      "text/plain": [
       "Symbols\n",
       "XLE    0.000000\n",
       "XLF    0.000760\n",
       "XLU    0.001018\n",
       "XLI    0.000753\n",
       "GDX    0.000322\n",
       "XLK    0.001017\n",
       "XLV    0.000861\n",
       "XLY    0.001104\n",
       "XLP    0.000440\n",
       "XLB    0.000651\n",
       "XOP    0.000000\n",
       "SPY    0.000516\n",
       "dtype: float64"
      ]
     },
     "execution_count": 8,
     "metadata": {},
     "output_type": "execute_result"
    }
   ],
   "source": [
    "median = returns.median()\n",
    "median"
   ]
  },
  {
   "cell_type": "code",
   "execution_count": 9,
   "metadata": {},
   "outputs": [
    {
     "data": {
      "text/plain": [
       "Symbols\n",
       "XLE    0.000161\n",
       "XLF    0.000338\n",
       "XLU    0.000616\n",
       "XLI    0.000404\n",
       "GDX   -0.000136\n",
       "XLK    0.000330\n",
       "XLV    0.000410\n",
       "XLY    0.000641\n",
       "XLP    0.000152\n",
       "XLB    0.000404\n",
       "XOP    0.000449\n",
       "SPY    0.000107\n",
       "dtype: float64"
      ]
     },
     "execution_count": 9,
     "metadata": {},
     "output_type": "execute_result"
    }
   ],
   "source": [
    "diff = median-mean_returns\n",
    "diff"
   ]
  },
  {
   "cell_type": "code",
   "execution_count": 10,
   "metadata": {},
   "outputs": [
    {
     "data": {
      "text/plain": [
       "Symbols\n",
       "XLE   -0.117672\n",
       "XLF   -0.374614\n",
       "XLU   -0.565169\n",
       "XLI   -0.443125\n",
       "GDX   -0.026566\n",
       "XLK   -0.389786\n",
       "XLV   -0.332189\n",
       "XLY   -0.348155\n",
       "XLP   -0.449950\n",
       "XLB   -0.234586\n",
       "XOP    0.107981\n",
       "SPY   -0.469261\n",
       "dtype: float64"
      ]
     },
     "execution_count": 10,
     "metadata": {},
     "output_type": "execute_result"
    }
   ],
   "source": [
    "skew = returns.skew()\n",
    "skew"
   ]
  },
  {
   "cell_type": "markdown",
   "metadata": {},
   "source": [
    "It seems that, in most occurences, this difference correlates with the skewness. More precisely, when the median is larger than the mean (mean left of the median), the data is negatively skewed."
   ]
  },
  {
   "cell_type": "code",
   "execution_count": 11,
   "metadata": {},
   "outputs": [
    {
     "data": {
      "text/plain": [
       "Symbols\n",
       "XLE    1.794336\n",
       "XLF    2.569157\n",
       "XLU    1.697737\n",
       "XLI    2.248227\n",
       "GDX    1.895774\n",
       "XLK    3.394845\n",
       "XLV    2.073538\n",
       "XLY    2.969517\n",
       "XLP    1.944691\n",
       "XLB    1.482196\n",
       "XOP    2.203666\n",
       "SPY    3.775246\n",
       "dtype: float64"
      ]
     },
     "execution_count": 11,
     "metadata": {},
     "output_type": "execute_result"
    }
   ],
   "source": [
    "kurtosis = returns.kurtosis()\n",
    "kurtosis"
   ]
  },
  {
   "cell_type": "code",
   "execution_count": 12,
   "metadata": {},
   "outputs": [
    {
     "data": {
      "text/html": [
       "<div>\n",
       "<style scoped>\n",
       "    .dataframe tbody tr th:only-of-type {\n",
       "        vertical-align: middle;\n",
       "    }\n",
       "\n",
       "    .dataframe tbody tr th {\n",
       "        vertical-align: top;\n",
       "    }\n",
       "\n",
       "    .dataframe thead th {\n",
       "        text-align: right;\n",
       "    }\n",
       "</style>\n",
       "<table border=\"1\" class=\"dataframe\">\n",
       "  <thead>\n",
       "    <tr style=\"text-align: right;\">\n",
       "      <th></th>\n",
       "      <th>0</th>\n",
       "      <th>1</th>\n",
       "      <th>2</th>\n",
       "      <th>3</th>\n",
       "      <th>4</th>\n",
       "      <th>5</th>\n",
       "      <th>6</th>\n",
       "      <th>7</th>\n",
       "      <th>8</th>\n",
       "      <th>9</th>\n",
       "      <th>...</th>\n",
       "      <th>4990</th>\n",
       "      <th>4991</th>\n",
       "      <th>4992</th>\n",
       "      <th>4993</th>\n",
       "      <th>4994</th>\n",
       "      <th>4995</th>\n",
       "      <th>4996</th>\n",
       "      <th>4997</th>\n",
       "      <th>4998</th>\n",
       "      <th>4999</th>\n",
       "    </tr>\n",
       "    <tr>\n",
       "      <th>Symbols</th>\n",
       "      <th></th>\n",
       "      <th></th>\n",
       "      <th></th>\n",
       "      <th></th>\n",
       "      <th></th>\n",
       "      <th></th>\n",
       "      <th></th>\n",
       "      <th></th>\n",
       "      <th></th>\n",
       "      <th></th>\n",
       "      <th></th>\n",
       "      <th></th>\n",
       "      <th></th>\n",
       "      <th></th>\n",
       "      <th></th>\n",
       "      <th></th>\n",
       "      <th></th>\n",
       "      <th></th>\n",
       "      <th></th>\n",
       "      <th></th>\n",
       "      <th></th>\n",
       "    </tr>\n",
       "  </thead>\n",
       "  <tbody>\n",
       "    <tr>\n",
       "      <th>XLE</th>\n",
       "      <td>0.012841</td>\n",
       "      <td>0.013222</td>\n",
       "      <td>0.012574</td>\n",
       "      <td>0.012783</td>\n",
       "      <td>0.012419</td>\n",
       "      <td>0.014646</td>\n",
       "      <td>0.014539</td>\n",
       "      <td>0.014041</td>\n",
       "      <td>0.013026</td>\n",
       "      <td>0.013309</td>\n",
       "      <td>...</td>\n",
       "      <td>0.012990</td>\n",
       "      <td>0.012187</td>\n",
       "      <td>0.013116</td>\n",
       "      <td>0.014648</td>\n",
       "      <td>0.013362</td>\n",
       "      <td>0.013490</td>\n",
       "      <td>0.011418</td>\n",
       "      <td>0.012326</td>\n",
       "      <td>0.014133</td>\n",
       "      <td>0.012381</td>\n",
       "    </tr>\n",
       "    <tr>\n",
       "      <th>XLF</th>\n",
       "      <td>0.010984</td>\n",
       "      <td>0.009562</td>\n",
       "      <td>0.009802</td>\n",
       "      <td>0.011223</td>\n",
       "      <td>0.010801</td>\n",
       "      <td>0.011555</td>\n",
       "      <td>0.011287</td>\n",
       "      <td>0.012369</td>\n",
       "      <td>0.009229</td>\n",
       "      <td>0.010634</td>\n",
       "      <td>...</td>\n",
       "      <td>0.011346</td>\n",
       "      <td>0.008884</td>\n",
       "      <td>0.009809</td>\n",
       "      <td>0.009663</td>\n",
       "      <td>0.010282</td>\n",
       "      <td>0.010497</td>\n",
       "      <td>0.010664</td>\n",
       "      <td>0.008292</td>\n",
       "      <td>0.010919</td>\n",
       "      <td>0.009278</td>\n",
       "    </tr>\n",
       "    <tr>\n",
       "      <th>XLU</th>\n",
       "      <td>0.008121</td>\n",
       "      <td>0.008441</td>\n",
       "      <td>0.007896</td>\n",
       "      <td>0.007738</td>\n",
       "      <td>0.010361</td>\n",
       "      <td>0.008529</td>\n",
       "      <td>0.009715</td>\n",
       "      <td>0.009340</td>\n",
       "      <td>0.008651</td>\n",
       "      <td>0.008759</td>\n",
       "      <td>...</td>\n",
       "      <td>0.008990</td>\n",
       "      <td>0.007807</td>\n",
       "      <td>0.008040</td>\n",
       "      <td>0.008916</td>\n",
       "      <td>0.007981</td>\n",
       "      <td>0.009372</td>\n",
       "      <td>0.007907</td>\n",
       "      <td>0.008812</td>\n",
       "      <td>0.008242</td>\n",
       "      <td>0.008402</td>\n",
       "    </tr>\n",
       "    <tr>\n",
       "      <th>XLI</th>\n",
       "      <td>0.009796</td>\n",
       "      <td>0.009077</td>\n",
       "      <td>0.009238</td>\n",
       "      <td>0.010486</td>\n",
       "      <td>0.009498</td>\n",
       "      <td>0.010828</td>\n",
       "      <td>0.010198</td>\n",
       "      <td>0.011232</td>\n",
       "      <td>0.008899</td>\n",
       "      <td>0.009597</td>\n",
       "      <td>...</td>\n",
       "      <td>0.010417</td>\n",
       "      <td>0.008222</td>\n",
       "      <td>0.008746</td>\n",
       "      <td>0.009087</td>\n",
       "      <td>0.009373</td>\n",
       "      <td>0.009117</td>\n",
       "      <td>0.008975</td>\n",
       "      <td>0.007888</td>\n",
       "      <td>0.010142</td>\n",
       "      <td>0.008299</td>\n",
       "    </tr>\n",
       "    <tr>\n",
       "      <th>GDX</th>\n",
       "      <td>0.020824</td>\n",
       "      <td>0.023486</td>\n",
       "      <td>0.022942</td>\n",
       "      <td>0.021459</td>\n",
       "      <td>0.024355</td>\n",
       "      <td>0.025849</td>\n",
       "      <td>0.022672</td>\n",
       "      <td>0.023057</td>\n",
       "      <td>0.023246</td>\n",
       "      <td>0.023948</td>\n",
       "      <td>...</td>\n",
       "      <td>0.023129</td>\n",
       "      <td>0.022268</td>\n",
       "      <td>0.025440</td>\n",
       "      <td>0.023230</td>\n",
       "      <td>0.022090</td>\n",
       "      <td>0.026445</td>\n",
       "      <td>0.022872</td>\n",
       "      <td>0.025456</td>\n",
       "      <td>0.021207</td>\n",
       "      <td>0.022682</td>\n",
       "    </tr>\n",
       "    <tr>\n",
       "      <th>XLK</th>\n",
       "      <td>0.010328</td>\n",
       "      <td>0.009874</td>\n",
       "      <td>0.010459</td>\n",
       "      <td>0.011699</td>\n",
       "      <td>0.011199</td>\n",
       "      <td>0.011688</td>\n",
       "      <td>0.012034</td>\n",
       "      <td>0.012403</td>\n",
       "      <td>0.009407</td>\n",
       "      <td>0.011155</td>\n",
       "      <td>...</td>\n",
       "      <td>0.011763</td>\n",
       "      <td>0.009324</td>\n",
       "      <td>0.009381</td>\n",
       "      <td>0.010561</td>\n",
       "      <td>0.010414</td>\n",
       "      <td>0.010947</td>\n",
       "      <td>0.010875</td>\n",
       "      <td>0.008745</td>\n",
       "      <td>0.010971</td>\n",
       "      <td>0.010404</td>\n",
       "    </tr>\n",
       "    <tr>\n",
       "      <th>XLV</th>\n",
       "      <td>0.009151</td>\n",
       "      <td>0.008619</td>\n",
       "      <td>0.009861</td>\n",
       "      <td>0.009664</td>\n",
       "      <td>0.009675</td>\n",
       "      <td>0.009868</td>\n",
       "      <td>0.010290</td>\n",
       "      <td>0.010677</td>\n",
       "      <td>0.008075</td>\n",
       "      <td>0.010464</td>\n",
       "      <td>...</td>\n",
       "      <td>0.009516</td>\n",
       "      <td>0.008094</td>\n",
       "      <td>0.009287</td>\n",
       "      <td>0.008581</td>\n",
       "      <td>0.008996</td>\n",
       "      <td>0.009604</td>\n",
       "      <td>0.009446</td>\n",
       "      <td>0.008126</td>\n",
       "      <td>0.009702</td>\n",
       "      <td>0.008770</td>\n",
       "    </tr>\n",
       "    <tr>\n",
       "      <th>XLY</th>\n",
       "      <td>0.008897</td>\n",
       "      <td>0.008585</td>\n",
       "      <td>0.009305</td>\n",
       "      <td>0.010328</td>\n",
       "      <td>0.009872</td>\n",
       "      <td>0.010292</td>\n",
       "      <td>0.010244</td>\n",
       "      <td>0.010058</td>\n",
       "      <td>0.008754</td>\n",
       "      <td>0.009673</td>\n",
       "      <td>...</td>\n",
       "      <td>0.010099</td>\n",
       "      <td>0.007991</td>\n",
       "      <td>0.008020</td>\n",
       "      <td>0.008681</td>\n",
       "      <td>0.009319</td>\n",
       "      <td>0.009358</td>\n",
       "      <td>0.009606</td>\n",
       "      <td>0.007663</td>\n",
       "      <td>0.009417</td>\n",
       "      <td>0.009162</td>\n",
       "    </tr>\n",
       "    <tr>\n",
       "      <th>XLP</th>\n",
       "      <td>0.007499</td>\n",
       "      <td>0.007061</td>\n",
       "      <td>0.007147</td>\n",
       "      <td>0.007575</td>\n",
       "      <td>0.006984</td>\n",
       "      <td>0.007639</td>\n",
       "      <td>0.007347</td>\n",
       "      <td>0.008524</td>\n",
       "      <td>0.006950</td>\n",
       "      <td>0.007310</td>\n",
       "      <td>...</td>\n",
       "      <td>0.007491</td>\n",
       "      <td>0.006128</td>\n",
       "      <td>0.006497</td>\n",
       "      <td>0.006991</td>\n",
       "      <td>0.007097</td>\n",
       "      <td>0.007443</td>\n",
       "      <td>0.006847</td>\n",
       "      <td>0.006277</td>\n",
       "      <td>0.007083</td>\n",
       "      <td>0.006842</td>\n",
       "    </tr>\n",
       "    <tr>\n",
       "      <th>XLB</th>\n",
       "      <td>0.010302</td>\n",
       "      <td>0.009515</td>\n",
       "      <td>0.010165</td>\n",
       "      <td>0.010677</td>\n",
       "      <td>0.009663</td>\n",
       "      <td>0.011725</td>\n",
       "      <td>0.010468</td>\n",
       "      <td>0.011544</td>\n",
       "      <td>0.008882</td>\n",
       "      <td>0.010967</td>\n",
       "      <td>...</td>\n",
       "      <td>0.011140</td>\n",
       "      <td>0.009477</td>\n",
       "      <td>0.010139</td>\n",
       "      <td>0.010505</td>\n",
       "      <td>0.010494</td>\n",
       "      <td>0.010040</td>\n",
       "      <td>0.009245</td>\n",
       "      <td>0.009101</td>\n",
       "      <td>0.011120</td>\n",
       "      <td>0.008756</td>\n",
       "    </tr>\n",
       "    <tr>\n",
       "      <th>XOP</th>\n",
       "      <td>0.021645</td>\n",
       "      <td>0.021816</td>\n",
       "      <td>0.020094</td>\n",
       "      <td>0.019199</td>\n",
       "      <td>0.021739</td>\n",
       "      <td>0.023413</td>\n",
       "      <td>0.024779</td>\n",
       "      <td>0.022067</td>\n",
       "      <td>0.021724</td>\n",
       "      <td>0.022729</td>\n",
       "      <td>...</td>\n",
       "      <td>0.021042</td>\n",
       "      <td>0.020823</td>\n",
       "      <td>0.020786</td>\n",
       "      <td>0.024995</td>\n",
       "      <td>0.021834</td>\n",
       "      <td>0.020973</td>\n",
       "      <td>0.021341</td>\n",
       "      <td>0.022527</td>\n",
       "      <td>0.023430</td>\n",
       "      <td>0.021625</td>\n",
       "    </tr>\n",
       "    <tr>\n",
       "      <th>SPY</th>\n",
       "      <td>0.008427</td>\n",
       "      <td>0.007679</td>\n",
       "      <td>0.008207</td>\n",
       "      <td>0.009256</td>\n",
       "      <td>0.008590</td>\n",
       "      <td>0.009351</td>\n",
       "      <td>0.009174</td>\n",
       "      <td>0.009913</td>\n",
       "      <td>0.007415</td>\n",
       "      <td>0.008683</td>\n",
       "      <td>...</td>\n",
       "      <td>0.009096</td>\n",
       "      <td>0.006684</td>\n",
       "      <td>0.007474</td>\n",
       "      <td>0.008028</td>\n",
       "      <td>0.008301</td>\n",
       "      <td>0.008320</td>\n",
       "      <td>0.007966</td>\n",
       "      <td>0.006609</td>\n",
       "      <td>0.008775</td>\n",
       "      <td>0.007664</td>\n",
       "    </tr>\n",
       "  </tbody>\n",
       "</table>\n",
       "<p>12 rows × 5000 columns</p>\n",
       "</div>"
      ],
      "text/plain": [
       "             0         1         2         3         4         5         6     \\\n",
       "Symbols                                                                         \n",
       "XLE      0.012841  0.013222  0.012574  0.012783  0.012419  0.014646  0.014539   \n",
       "XLF      0.010984  0.009562  0.009802  0.011223  0.010801  0.011555  0.011287   \n",
       "XLU      0.008121  0.008441  0.007896  0.007738  0.010361  0.008529  0.009715   \n",
       "XLI      0.009796  0.009077  0.009238  0.010486  0.009498  0.010828  0.010198   \n",
       "GDX      0.020824  0.023486  0.022942  0.021459  0.024355  0.025849  0.022672   \n",
       "XLK      0.010328  0.009874  0.010459  0.011699  0.011199  0.011688  0.012034   \n",
       "XLV      0.009151  0.008619  0.009861  0.009664  0.009675  0.009868  0.010290   \n",
       "XLY      0.008897  0.008585  0.009305  0.010328  0.009872  0.010292  0.010244   \n",
       "XLP      0.007499  0.007061  0.007147  0.007575  0.006984  0.007639  0.007347   \n",
       "XLB      0.010302  0.009515  0.010165  0.010677  0.009663  0.011725  0.010468   \n",
       "XOP      0.021645  0.021816  0.020094  0.019199  0.021739  0.023413  0.024779   \n",
       "SPY      0.008427  0.007679  0.008207  0.009256  0.008590  0.009351  0.009174   \n",
       "\n",
       "             7         8         9     ...      4990      4991      4992  \\\n",
       "Symbols                                ...                                 \n",
       "XLE      0.014041  0.013026  0.013309  ...  0.012990  0.012187  0.013116   \n",
       "XLF      0.012369  0.009229  0.010634  ...  0.011346  0.008884  0.009809   \n",
       "XLU      0.009340  0.008651  0.008759  ...  0.008990  0.007807  0.008040   \n",
       "XLI      0.011232  0.008899  0.009597  ...  0.010417  0.008222  0.008746   \n",
       "GDX      0.023057  0.023246  0.023948  ...  0.023129  0.022268  0.025440   \n",
       "XLK      0.012403  0.009407  0.011155  ...  0.011763  0.009324  0.009381   \n",
       "XLV      0.010677  0.008075  0.010464  ...  0.009516  0.008094  0.009287   \n",
       "XLY      0.010058  0.008754  0.009673  ...  0.010099  0.007991  0.008020   \n",
       "XLP      0.008524  0.006950  0.007310  ...  0.007491  0.006128  0.006497   \n",
       "XLB      0.011544  0.008882  0.010967  ...  0.011140  0.009477  0.010139   \n",
       "XOP      0.022067  0.021724  0.022729  ...  0.021042  0.020823  0.020786   \n",
       "SPY      0.009913  0.007415  0.008683  ...  0.009096  0.006684  0.007474   \n",
       "\n",
       "             4993      4994      4995      4996      4997      4998      4999  \n",
       "Symbols                                                                        \n",
       "XLE      0.014648  0.013362  0.013490  0.011418  0.012326  0.014133  0.012381  \n",
       "XLF      0.009663  0.010282  0.010497  0.010664  0.008292  0.010919  0.009278  \n",
       "XLU      0.008916  0.007981  0.009372  0.007907  0.008812  0.008242  0.008402  \n",
       "XLI      0.009087  0.009373  0.009117  0.008975  0.007888  0.010142  0.008299  \n",
       "GDX      0.023230  0.022090  0.026445  0.022872  0.025456  0.021207  0.022682  \n",
       "XLK      0.010561  0.010414  0.010947  0.010875  0.008745  0.010971  0.010404  \n",
       "XLV      0.008581  0.008996  0.009604  0.009446  0.008126  0.009702  0.008770  \n",
       "XLY      0.008681  0.009319  0.009358  0.009606  0.007663  0.009417  0.009162  \n",
       "XLP      0.006991  0.007097  0.007443  0.006847  0.006277  0.007083  0.006842  \n",
       "XLB      0.010505  0.010494  0.010040  0.009245  0.009101  0.011120  0.008756  \n",
       "XOP      0.024995  0.021834  0.020973  0.021341  0.022527  0.023430  0.021625  \n",
       "SPY      0.008028  0.008301  0.008320  0.007966  0.006609  0.008775  0.007664  \n",
       "\n",
       "[12 rows x 5000 columns]"
      ]
     },
     "execution_count": 12,
     "metadata": {},
     "output_type": "execute_result"
    }
   ],
   "source": [
    "results = pd.DataFrame()\n",
    "for i in range(5000):\n",
    "    results[i] = returns.sample(200, replace = True).std()\n",
    "    \n",
    "results"
   ]
  },
  {
   "cell_type": "code",
   "execution_count": 13,
   "metadata": {},
   "outputs": [
    {
     "data": {
      "text/plain": [
       "Symbols\n",
       "XLE    0.000913\n",
       "XLF    0.000772\n",
       "XLU    0.000609\n",
       "XLI    0.000686\n",
       "GDX    0.001616\n",
       "XLK    0.000864\n",
       "XLV    0.000669\n",
       "XLY    0.000730\n",
       "XLP    0.000517\n",
       "XLB    0.000670\n",
       "XOP    0.001597\n",
       "SPY    0.000700\n",
       "dtype: float64"
      ]
     },
     "execution_count": 13,
     "metadata": {},
     "output_type": "execute_result"
    }
   ],
   "source": [
    "results.std(axis = 1)"
   ]
  },
  {
   "cell_type": "code",
   "execution_count": 14,
   "metadata": {},
   "outputs": [
    {
     "data": {
      "text/plain": [
       "(-0.09397191648044301, 0.7714423486773723)"
      ]
     },
     "execution_count": 14,
     "metadata": {},
     "output_type": "execute_result"
    }
   ],
   "source": [
    "stats.pearsonr(np.array(results.std(axis =1)), np.array(kurtosis))"
   ]
  },
  {
   "cell_type": "markdown",
   "metadata": {},
   "source": [
    "The two measure correlates positively. The higher the volatility of the standard deviation, the higher the kurtosis."
   ]
  },
  {
   "cell_type": "code",
   "execution_count": 15,
   "metadata": {},
   "outputs": [
    {
     "data": {
      "text/plain": [
       "array([1.79433572, 2.56915689, 1.69773693, 2.24822682, 1.89577362,\n",
       "       3.39484542, 2.07353842, 2.96951748, 1.94469147, 1.48219628,\n",
       "       2.2036659 , 3.77524617])"
      ]
     },
     "execution_count": 15,
     "metadata": {},
     "output_type": "execute_result"
    }
   ],
   "source": [
    "np.array(kurtosis)"
   ]
  },
  {
   "cell_type": "markdown",
   "metadata": {},
   "source": [
    "The average returns for the SPDRs are close to zero. There seem to be larger negative returns as compared to positive ones that skews the data negatively. The data has relatively heavy tails. This is what we would expect from financial data."
   ]
  },
  {
   "cell_type": "markdown",
   "metadata": {},
   "source": [
    "## Data Inference"
   ]
  },
  {
   "cell_type": "code",
   "execution_count": 16,
   "metadata": {},
   "outputs": [
    {
     "data": {
      "text/plain": [
       "1.8737448052308446e-15"
      ]
     },
     "execution_count": 16,
     "metadata": {},
     "output_type": "execute_result"
    }
   ],
   "source": [
    "#Normality Test\n",
    "f1 = returns.iloc[:,0]\n",
    "k1, p1 = stats.normaltest(f1)\n",
    "p1"
   ]
  },
  {
   "cell_type": "code",
   "execution_count": 17,
   "metadata": {},
   "outputs": [
    {
     "data": {
      "image/png": "[encoded data removed]",
      "text/plain": [
       "<Figure size 432x288 with 1 Axes>"
      ]
     },
     "metadata": {
      "needs_background": "light"
     },
     "output_type": "display_data"
    }
   ],
   "source": [
    "%matplotlib inline\n",
    "plt.hist(f1, bins = 50)\n",
    "plt.show()"
   ]
  },
  {
   "cell_type": "markdown",
   "metadata": {},
   "source": [
    "The null hypothesis can be rejected and the data does not fit the normal distribution well. This is most likely cause by outliers (i.e. large positive and negative returns corresponding to periods of financial stress)."
   ]
  },
  {
   "cell_type": "code",
   "execution_count": 18,
   "metadata": {},
   "outputs": [
    {
     "data": {
      "text/plain": [
       "1.24315437768306e-28"
      ]
     },
     "execution_count": 18,
     "metadata": {},
     "output_type": "execute_result"
    }
   ],
   "source": [
    "#Normality Test on 2nd fund\n",
    "f2 = returns.iloc[:,1]\n",
    "k2, p2 = stats.normaltest(f2)\n",
    "p2"
   ]
  },
  {
   "cell_type": "code",
   "execution_count": 19,
   "metadata": {},
   "outputs": [
    {
     "data": {
      "text/plain": [
       "(array([  1.,   1.,   0.,   0.,   1.,   2.,   0.,   0.,   3.,   0.,   4.,\n",
       "          4.,   5.,   4.,   7.,  11.,  13.,  13.,  15.,  24.,  34.,  36.,\n",
       "         65.,  74.,  85., 135., 153., 156., 142., 123.,  90.,  83.,  55.,\n",
       "         40.,  45.,  26.,  18.,   8.,  10.,   7.,   6.,   2.,   0.,   2.,\n",
       "          1.,   1.,   1.,   0.,   2.,   1.]),\n",
       " array([-0.05357897, -0.05160196, -0.04962496, -0.04764796, -0.04567096,\n",
       "        -0.04369395, -0.04171695, -0.03973995, -0.03776294, -0.03578594,\n",
       "        -0.03380894, -0.03183193, -0.02985493, -0.02787793, -0.02590092,\n",
       "        -0.02392392, -0.02194692, -0.01996991, -0.01799291, -0.01601591,\n",
       "        -0.0140389 , -0.0120619 , -0.0100849 , -0.0081079 , -0.00613089,\n",
       "        -0.00415389, -0.00217689, -0.00019988,  0.00177712,  0.00375412,\n",
       "         0.00573113,  0.00770813,  0.00968513,  0.01166214,  0.01363914,\n",
       "         0.01561614,  0.01759315,  0.01957015,  0.02154715,  0.02352416,\n",
       "         0.02550116,  0.02747816,  0.02945516,  0.03143217,  0.03340917,\n",
       "         0.03538617,  0.03736318,  0.03934018,  0.04131718,  0.04329419,\n",
       "         0.04527119]),\n",
       " <a list of 50 Patch objects>)"
      ]
     },
     "execution_count": 19,
     "metadata": {},
     "output_type": "execute_result"
    },
    {
     "data": {
      "image/png": "[encoded data removed]",
      "text/plain": [
       "<Figure size 432x288 with 1 Axes>"
      ]
     },
     "metadata": {
      "needs_background": "light"
     },
     "output_type": "display_data"
    }
   ],
   "source": [
    "%matplotlib inline\n",
    "plt.hist(f2, bins = 50)"
   ]
  },
  {
   "cell_type": "markdown",
   "metadata": {},
   "source": [
    "The null hypothesis can be rejected and the data does not fit the normal distribution well. This is most likely cause by outliers (i.e. large positive and negative returns corresponding to periods of financial stress)."
   ]
  },
  {
   "cell_type": "markdown",
   "metadata": {},
   "source": [
    "The Cauchy distribution is a fat-tailed distribution that can sometimes better fit financial data as it accounts for large positive and negative returns."
   ]
  },
  {
   "cell_type": "markdown",
   "metadata": {},
   "source": [
    "## Data Comparison - Copulas "
   ]
  },
  {
   "cell_type": "code",
   "execution_count": 20,
   "metadata": {},
   "outputs": [
    {
     "data": {
      "text/html": [
       "<div>\n",
       "<style scoped>\n",
       "    .dataframe tbody tr th:only-of-type {\n",
       "        vertical-align: middle;\n",
       "    }\n",
       "\n",
       "    .dataframe tbody tr th {\n",
       "        vertical-align: top;\n",
       "    }\n",
       "\n",
       "    .dataframe thead th {\n",
       "        text-align: right;\n",
       "    }\n",
       "</style>\n",
       "<table border=\"1\" class=\"dataframe\">\n",
       "  <thead>\n",
       "    <tr style=\"text-align: right;\">\n",
       "      <th></th>\n",
       "      <th>XLE</th>\n",
       "      <th>XLF</th>\n",
       "    </tr>\n",
       "    <tr>\n",
       "      <th>Date</th>\n",
       "      <th></th>\n",
       "      <th></th>\n",
       "    </tr>\n",
       "  </thead>\n",
       "  <tbody>\n",
       "    <tr>\n",
       "      <th>2014-01-03</th>\n",
       "      <td>-0.003668</td>\n",
       "      <td>0.006900</td>\n",
       "    </tr>\n",
       "    <tr>\n",
       "      <th>2014-01-06</th>\n",
       "      <td>0.001380</td>\n",
       "      <td>0.000914</td>\n",
       "    </tr>\n",
       "    <tr>\n",
       "      <th>2014-01-07</th>\n",
       "      <td>0.007582</td>\n",
       "      <td>0.000456</td>\n",
       "    </tr>\n",
       "    <tr>\n",
       "      <th>2014-01-08</th>\n",
       "      <td>-0.006955</td>\n",
       "      <td>0.003193</td>\n",
       "    </tr>\n",
       "    <tr>\n",
       "      <th>2014-01-09</th>\n",
       "      <td>-0.003100</td>\n",
       "      <td>0.003638</td>\n",
       "    </tr>\n",
       "    <tr>\n",
       "      <th>...</th>\n",
       "      <td>...</td>\n",
       "      <td>...</td>\n",
       "    </tr>\n",
       "    <tr>\n",
       "      <th>2019-12-24</th>\n",
       "      <td>-0.000484</td>\n",
       "      <td>0.002287</td>\n",
       "    </tr>\n",
       "    <tr>\n",
       "      <th>2019-12-26</th>\n",
       "      <td>-0.000323</td>\n",
       "      <td>0.005541</td>\n",
       "    </tr>\n",
       "    <tr>\n",
       "      <th>2019-12-27</th>\n",
       "      <td>-0.004198</td>\n",
       "      <td>-0.002593</td>\n",
       "    </tr>\n",
       "    <tr>\n",
       "      <th>2019-12-30</th>\n",
       "      <td>-0.032101</td>\n",
       "      <td>-0.002925</td>\n",
       "    </tr>\n",
       "    <tr>\n",
       "      <th>2019-12-31</th>\n",
       "      <td>0.005695</td>\n",
       "      <td>0.003259</td>\n",
       "    </tr>\n",
       "  </tbody>\n",
       "</table>\n",
       "<p>1509 rows × 2 columns</p>\n",
       "</div>"
      ],
      "text/plain": [
       "                 XLE       XLF\n",
       "Date                          \n",
       "2014-01-03 -0.003668  0.006900\n",
       "2014-01-06  0.001380  0.000914\n",
       "2014-01-07  0.007582  0.000456\n",
       "2014-01-08 -0.006955  0.003193\n",
       "2014-01-09 -0.003100  0.003638\n",
       "...              ...       ...\n",
       "2019-12-24 -0.000484  0.002287\n",
       "2019-12-26 -0.000323  0.005541\n",
       "2019-12-27 -0.004198 -0.002593\n",
       "2019-12-30 -0.032101 -0.002925\n",
       "2019-12-31  0.005695  0.003259\n",
       "\n",
       "[1509 rows x 2 columns]"
      ]
     },
     "execution_count": 20,
     "metadata": {},
     "output_type": "execute_result"
    }
   ],
   "source": [
    "m = pd.DataFrame((f1,f2)).transpose()\n",
    "m\n",
    "\n"
   ]
  },
  {
   "cell_type": "markdown",
   "metadata": {},
   "source": [
    "###### RUN THE NEXT CELL TWICE. I DO NOT KNOW WHY? BUT IT TENDS NOT TO WORK THE FIRST TIME AND TO WORK THEREAFTER\n"
   ]
  },
  {
   "cell_type": "code",
   "execution_count": 21,
   "metadata": {},
   "outputs": [
    {
     "name": "stderr",
     "output_type": "stream",
     "text": [
      "C:\\Users\\louis\\anaconda3\\lib\\site-packages\\scipy\\stats\\_continuous_distns.py:621: RuntimeWarning: invalid value encountered in sqrt\n",
      "  sk = 2*(b-a)*np.sqrt(a + b + 1) / (a + b + 2) / np.sqrt(a*b)\n",
      "C:\\Users\\louis\\anaconda3\\lib\\site-packages\\scipy\\optimize\\minpack.py:175: RuntimeWarning: The iteration is not making good progress, as measured by the \n",
      "  improvement from the last ten iterations.\n",
      "  warnings.warn(msg, RuntimeWarning)\n",
      "C:\\Users\\louis\\anaconda3\\lib\\site-packages\\scipy\\stats\\_continuous_distns.py:4965: RuntimeWarning: divide by zero encountered in true_divide\n",
      "  return c**2 / (c**2 - n**2)\n",
      "C:\\Users\\louis\\anaconda3\\lib\\site-packages\\scipy\\stats\\_distn_infrastructure.py:2429: RuntimeWarning: invalid value encountered in double_scalars\n",
      "  Lhat = muhat - Shat*mu\n",
      "C:\\Users\\louis\\anaconda3\\lib\\site-packages\\copulas\\univariate\\truncated_gaussian.py:43: RuntimeWarning: divide by zero encountered in double_scalars\n",
      "  a = (self.min - loc) / scale\n",
      "C:\\Users\\louis\\anaconda3\\lib\\site-packages\\copulas\\univariate\\truncated_gaussian.py:44: RuntimeWarning: divide by zero encountered in double_scalars\n",
      "  b = (self.max - loc) / scale\n"
     ]
    },
    {
     "data": {
      "image/png": "[encoded data removed]",
      "text/plain": [
       "<Figure size 720x288 with 2 Axes>"
      ]
     },
     "metadata": {
      "needs_background": "light"
     },
     "output_type": "display_data"
    }
   ],
   "source": [
    "copul = GaussianMultivariate()\n",
    "dist = copul.fit(m)\n",
    "synthetic_data = copul.sample(len(m))\n",
    "compare_3d(m, synthetic_data)"
   ]
  },
  {
   "cell_type": "code",
   "execution_count": 22,
   "metadata": {},
   "outputs": [],
   "source": [
    "#Student Copula\n",
    "sc = copulae.elliptical.StudentCopula(dim = 2)\n",
    "fit_2 = sc.fit(m, method = 'ml')\n",
    "fit_2"
   ]
  },
  {
   "cell_type": "markdown",
   "metadata": {},
   "source": [
    "# Estimate of the correlation for Gaussian copula and student copula correlation\n",
    "\n",
    "### - Correlation for the Gaussian copula is obtained by estimating the covariance matrix using the log-likelihood method, and then normalising the covariance estimate.\n",
    "\n",
    "### - Correlation for the student copula:ρ=sin⁡(1/2.π.τ) where τ is the Kendal's tau.\n",
    "\n",
    "#### source: https://support.sas.com/documentation/cdl/en/etsug/63939/HTML/default/viewer.htm#etsug_copula_sect015.htm \n"
   ]
  },
  {
   "cell_type": "markdown",
   "metadata": {},
   "source": [
    "# Which Correlation is preferred?\n",
    "\n",
    "### The rank correlation could be preferred as it applies to both linear and nonlinear relationships and is thus robust, while the Gaussian correlation applies to linear relationships only."
   ]
  },
  {
   "cell_type": "markdown",
   "metadata": {},
   "source": [
    "## Category 1 Models: Lasso and PCA"
   ]
  },
  {
   "cell_type": "markdown",
   "metadata": {},
   "source": [
    "### LASSO"
   ]
  },
  {
   "cell_type": "code",
   "execution_count": 23,
   "metadata": {},
   "outputs": [],
   "source": [
    "#Define variables\n",
    "y = returns.iloc[:,-1]\n",
    "X = returns.iloc[:,:-1]"
   ]
  },
  {
   "cell_type": "code",
   "execution_count": 24,
   "metadata": {},
   "outputs": [
    {
     "data": {
      "text/plain": [
       "[<matplotlib.lines.Line2D at 0x251935a7e20>]"
      ]
     },
     "execution_count": 24,
     "metadata": {},
     "output_type": "execute_result"
    },
    {
     "data": {
      "image/png": "[encoded data removed]",
      "text/plain": [
       "<Figure size 432x288 with 1 Axes>"
      ]
     },
     "metadata": {
      "needs_background": "light"
     },
     "output_type": "display_data"
    }
   ],
   "source": [
    "#Split data into train/test datasets\n",
    "X_train, X_test, y_train, y_test = train_test_split(X, y, test_size=0.33,shuffle = False)\n",
    "\n",
    "#Create empty dataframe to store resutls\n",
    "results = pd.DataFrame(columns = ['coefs','nb_predictors','score','mse'], index =np.linspace(0,0.001, 1001)[1:] )\n",
    "results.index.name = 'alpha'\n",
    "\n",
    "#loop over alphas\n",
    "for alpha in results.index:\n",
    "    #Fit Model\n",
    "    lasso = Lasso(alpha=alpha, max_iter = 10000)\n",
    "    lasso.fit(X_train,y_train)\n",
    "    \n",
    "    #Make Predictions\n",
    "    preds = lasso.predict(X_test)\n",
    "\n",
    "    #Store Results\n",
    "    results.loc[alpha,'score'] = lasso.score(X_test,y_test)\n",
    "    results.loc[alpha,'nb_predictors'] = np.sum(lasso.coef_!=0)\n",
    "    results.loc[alpha,'coefs'] = lasso.coef_\n",
    "    results.loc[alpha,'mse'] = mean_squared_error(y_test,preds)\n",
    "\n",
    "#Plot scores vs alphas\n",
    "plt.plot(np.log(results.index),results['score'])   "
   ]
  },
  {
   "cell_type": "code",
   "execution_count": 25,
   "metadata": {},
   "outputs": [
    {
     "data": {
      "text/plain": [
       "coefs            [0.0, 0.16370667190690863, 0.0, 0.011554819225...\n",
       "nb_predictors                                                    5\n",
       "score                                                     0.827664\n",
       "mse                                                    1.55261e-05\n",
       "Name: 2.4999999999999998e-05, dtype: object"
      ]
     },
     "execution_count": 25,
     "metadata": {},
     "output_type": "execute_result"
    }
   ],
   "source": [
    "#Find what are the best predictors for 5 predictors\n",
    "results[results['nb_predictors'] == 5].sort_values('score', ascending = False).iloc[0,:]"
   ]
  },
  {
   "cell_type": "code",
   "execution_count": 26,
   "metadata": {},
   "outputs": [
    {
     "data": {
      "text/html": [
       "<div>\n",
       "<style scoped>\n",
       "    .dataframe tbody tr th:only-of-type {\n",
       "        vertical-align: middle;\n",
       "    }\n",
       "\n",
       "    .dataframe tbody tr th {\n",
       "        vertical-align: top;\n",
       "    }\n",
       "\n",
       "    .dataframe thead th {\n",
       "        text-align: right;\n",
       "    }\n",
       "</style>\n",
       "<table border=\"1\" class=\"dataframe\">\n",
       "  <thead>\n",
       "    <tr style=\"text-align: right;\">\n",
       "      <th>Symbols</th>\n",
       "      <th>XLE</th>\n",
       "      <th>XLF</th>\n",
       "      <th>XLU</th>\n",
       "      <th>XLI</th>\n",
       "      <th>GDX</th>\n",
       "      <th>XLK</th>\n",
       "      <th>XLV</th>\n",
       "      <th>XLY</th>\n",
       "      <th>XLP</th>\n",
       "      <th>XLB</th>\n",
       "      <th>XOP</th>\n",
       "      <th>SPY</th>\n",
       "    </tr>\n",
       "    <tr>\n",
       "      <th>Date</th>\n",
       "      <th></th>\n",
       "      <th></th>\n",
       "      <th></th>\n",
       "      <th></th>\n",
       "      <th></th>\n",
       "      <th></th>\n",
       "      <th></th>\n",
       "      <th></th>\n",
       "      <th></th>\n",
       "      <th></th>\n",
       "      <th></th>\n",
       "      <th></th>\n",
       "    </tr>\n",
       "  </thead>\n",
       "  <tbody>\n",
       "    <tr>\n",
       "      <th>2014-01-03</th>\n",
       "      <td>-0.003668</td>\n",
       "      <td>0.006900</td>\n",
       "      <td>-0.003209</td>\n",
       "      <td>0.002717</td>\n",
       "      <td>-0.009079</td>\n",
       "      <td>-0.004804</td>\n",
       "      <td>0.002358</td>\n",
       "      <td>-0.002706</td>\n",
       "      <td>-0.001885</td>\n",
       "      <td>-0.002399</td>\n",
       "      <td>-0.009090</td>\n",
       "      <td>-0.000164</td>\n",
       "    </tr>\n",
       "    <tr>\n",
       "      <th>2014-01-06</th>\n",
       "      <td>0.001380</td>\n",
       "      <td>0.000914</td>\n",
       "      <td>0.001610</td>\n",
       "      <td>-0.005806</td>\n",
       "      <td>0.004581</td>\n",
       "      <td>-0.001704</td>\n",
       "      <td>-0.004162</td>\n",
       "      <td>-0.006180</td>\n",
       "      <td>-0.003776</td>\n",
       "      <td>-0.005466</td>\n",
       "      <td>-0.005414</td>\n",
       "      <td>-0.002898</td>\n",
       "    </tr>\n",
       "    <tr>\n",
       "      <th>2014-01-07</th>\n",
       "      <td>0.007582</td>\n",
       "      <td>0.000456</td>\n",
       "      <td>0.008840</td>\n",
       "      <td>0.006229</td>\n",
       "      <td>0.001824</td>\n",
       "      <td>0.009101</td>\n",
       "      <td>0.010540</td>\n",
       "      <td>0.006067</td>\n",
       "      <td>0.005449</td>\n",
       "      <td>-0.001759</td>\n",
       "      <td>0.009223</td>\n",
       "      <td>0.006142</td>\n",
       "    </tr>\n",
       "    <tr>\n",
       "      <th>2014-01-08</th>\n",
       "      <td>-0.006955</td>\n",
       "      <td>0.003193</td>\n",
       "      <td>-0.005311</td>\n",
       "      <td>-0.001741</td>\n",
       "      <td>-0.016386</td>\n",
       "      <td>0.000000</td>\n",
       "      <td>0.008811</td>\n",
       "      <td>-0.002714</td>\n",
       "      <td>-0.007540</td>\n",
       "      <td>0.005946</td>\n",
       "      <td>-0.004494</td>\n",
       "      <td>0.000218</td>\n",
       "    </tr>\n",
       "    <tr>\n",
       "      <th>2014-01-09</th>\n",
       "      <td>-0.003100</td>\n",
       "      <td>0.003638</td>\n",
       "      <td>0.005873</td>\n",
       "      <td>0.004845</td>\n",
       "      <td>-0.015733</td>\n",
       "      <td>-0.006483</td>\n",
       "      <td>0.007487</td>\n",
       "      <td>-0.000151</td>\n",
       "      <td>0.005223</td>\n",
       "      <td>-0.003940</td>\n",
       "      <td>-0.004063</td>\n",
       "      <td>0.000654</td>\n",
       "    </tr>\n",
       "  </tbody>\n",
       "</table>\n",
       "</div>"
      ],
      "text/plain": [
       "Symbols          XLE       XLF       XLU       XLI       GDX       XLK  \\\n",
       "Date                                                                     \n",
       "2014-01-03 -0.003668  0.006900 -0.003209  0.002717 -0.009079 -0.004804   \n",
       "2014-01-06  0.001380  0.000914  0.001610 -0.005806  0.004581 -0.001704   \n",
       "2014-01-07  0.007582  0.000456  0.008840  0.006229  0.001824  0.009101   \n",
       "2014-01-08 -0.006955  0.003193 -0.005311 -0.001741 -0.016386  0.000000   \n",
       "2014-01-09 -0.003100  0.003638  0.005873  0.004845 -0.015733 -0.006483   \n",
       "\n",
       "Symbols          XLV       XLY       XLP       XLB       XOP       SPY  \n",
       "Date                                                                    \n",
       "2014-01-03  0.002358 -0.002706 -0.001885 -0.002399 -0.009090 -0.000164  \n",
       "2014-01-06 -0.004162 -0.006180 -0.003776 -0.005466 -0.005414 -0.002898  \n",
       "2014-01-07  0.010540  0.006067  0.005449 -0.001759  0.009223  0.006142  \n",
       "2014-01-08  0.008811 -0.002714 -0.007540  0.005946 -0.004494  0.000218  \n",
       "2014-01-09  0.007487 -0.000151  0.005223 -0.003940 -0.004063  0.000654  "
      ]
     },
     "execution_count": 26,
     "metadata": {},
     "output_type": "execute_result"
    }
   ],
   "source": [
    "returns.head()"
   ]
  },
  {
   "cell_type": "markdown",
   "metadata": {},
   "source": [
    "The 5 best predictors are XLF, XLI, XLK, XLV and XOP"
   ]
  },
  {
   "cell_type": "markdown",
   "metadata": {},
   "source": [
    "### PCA - Correlation Matrix"
   ]
  },
  {
   "cell_type": "code",
   "execution_count": 27,
   "metadata": {},
   "outputs": [],
   "source": [
    "#Standardize the returns\n",
    "returns_z = (returns-returns.mean())/returns.std()"
   ]
  },
  {
   "cell_type": "code",
   "execution_count": 28,
   "metadata": {},
   "outputs": [
    {
     "data": {
      "text/plain": [
       "PCA()"
      ]
     },
     "execution_count": 28,
     "metadata": {},
     "output_type": "execute_result"
    }
   ],
   "source": [
    "#PCA\n",
    "X=returns_z.iloc[:,:-1]\n",
    "y=returns_z.iloc[:,-1]\n",
    "pca_corr = PCA()\n",
    "pca_corr.fit(X)"
   ]
  },
  {
   "cell_type": "code",
   "execution_count": 29,
   "metadata": {},
   "outputs": [
    {
     "data": {
      "text/plain": [
       "array([0.56784856, 0.68980493, 0.80262723, 0.86305191, 0.89515816,\n",
       "       0.92314163, 0.94996048, 0.96916647, 0.98237089, 0.99399491,\n",
       "       1.        ])"
      ]
     },
     "execution_count": 29,
     "metadata": {},
     "output_type": "execute_result"
    }
   ],
   "source": [
    "#Cummulative variance explained\n",
    "cum_ratio = pca_corr.explained_variance_ratio_.cumsum()\n",
    "cum_ratio"
   ]
  },
  {
   "cell_type": "code",
   "execution_count": 30,
   "metadata": {},
   "outputs": [
    {
     "data": {
      "text/plain": [
       "(1509, 5)"
      ]
     },
     "execution_count": 30,
     "metadata": {},
     "output_type": "execute_result"
    }
   ],
   "source": [
    "#Transformm explanatory space into space of dim 5\n",
    "X_proj_corr = pca_corr.transform(X)\n",
    "X_proj_corr = X_proj_corr[:,:5]\n",
    "X_proj_corr.shape"
   ]
  },
  {
   "cell_type": "code",
   "execution_count": 31,
   "metadata": {},
   "outputs": [
    {
     "name": "stdout",
     "output_type": "stream",
     "text": [
      "intercept: 2.256015627495708e-17\n",
      "coefs: [ 0.39319016  0.08995286  0.07001594 -0.08062062 -0.08601592]\n",
      "score: 0.9895459015149412\n",
      "mse: 0.010447170653060766\n"
     ]
    }
   ],
   "source": [
    "#Fit Model to the data\n",
    "linreg_corr = LinearRegression()\n",
    "linreg_corr.fit(X_proj_corr,y)\n",
    "\n",
    "#Make Predictions\n",
    "predictions_corr = linreg_corr.predict(X_proj_corr)\n",
    "\n",
    "#Model Summary\n",
    "mse_corr = np.mean((predictions_corr-y)**2)\n",
    "print ('intercept:', linreg_corr.intercept_)\n",
    "print('coefs:', linreg_corr.coef_)\n",
    "print('score:', linreg_corr.score(X_proj_corr,y))\n",
    "print('mse:', mse_corr)"
   ]
  },
  {
   "cell_type": "markdown",
   "metadata": {},
   "source": [
    "## PCA - Covariance"
   ]
  },
  {
   "cell_type": "code",
   "execution_count": 32,
   "metadata": {},
   "outputs": [
    {
     "data": {
      "text/plain": [
       "PCA()"
      ]
     },
     "execution_count": 32,
     "metadata": {},
     "output_type": "execute_result"
    }
   ],
   "source": [
    "#PCA\n",
    "X=returns.iloc[:,:-1]\n",
    "y=returns.iloc[:,-1]\n",
    "pca = PCA()\n",
    "pca.fit(X)"
   ]
  },
  {
   "cell_type": "code",
   "execution_count": 33,
   "metadata": {},
   "outputs": [
    {
     "data": {
      "text/plain": [
       "array([0.48182956, 0.75969165, 0.884291  , 0.92291606, 0.94180361,\n",
       "       0.95727033, 0.96917351, 0.97887381, 0.98711785, 0.99375751,\n",
       "       1.        ])"
      ]
     },
     "execution_count": 33,
     "metadata": {},
     "output_type": "execute_result"
    }
   ],
   "source": [
    "cum_ratio = pca.explained_variance_ratio_.cumsum()\n",
    "cum_ratio"
   ]
  },
  {
   "cell_type": "code",
   "execution_count": 34,
   "metadata": {},
   "outputs": [
    {
     "data": {
      "text/plain": [
       "(1509, 5)"
      ]
     },
     "execution_count": 34,
     "metadata": {},
     "output_type": "execute_result"
    }
   ],
   "source": [
    "X_proj = pca.transform(X)\n",
    "X_proj = X_proj[:,:5]\n",
    "X_proj.shape"
   ]
  },
  {
   "cell_type": "code",
   "execution_count": 35,
   "metadata": {},
   "outputs": [
    {
     "name": "stdout",
     "output_type": "stream",
     "text": [
      "intercept: 0.00040892560940975164\n",
      "coefs: [ 0.22452859 -0.10669682 -0.2524084   0.02530844 -0.09885869]\n",
      "score: 0.9934131493277274\n",
      "mse: 4.519677483910807e-07\n"
     ]
    }
   ],
   "source": [
    "#Fit Model to the data\n",
    "linreg = LinearRegression()\n",
    "linreg.fit(X_proj,y)\n",
    "\n",
    "#Make Predictions\n",
    "predictions = linreg.predict(X_proj)\n",
    "\n",
    "#Model Summary\n",
    "mse = np.mean((predictions-y)**2)\n",
    "print ('intercept:', linreg.intercept_)\n",
    "print('coefs:', linreg.coef_)\n",
    "print('score:', linreg.score(X_proj,y))\n",
    "print('mse:', mse)"
   ]
  },
  {
   "cell_type": "markdown",
   "metadata": {},
   "source": [
    "## Trimmed Data PCA - Corr"
   ]
  },
  {
   "cell_type": "code",
   "execution_count": 36,
   "metadata": {},
   "outputs": [],
   "source": [
    "#remove outliers from data\n",
    "quantiles = returns.quantile([0.025, 0.975])\n",
    "returns_trimmed = returns.apply(lambda x: x[(x>quantiles.loc[0.025,x.name]) & \n",
    "                                    (x < quantiles.loc[0.975,x.name])]).dropna()"
   ]
  },
  {
   "cell_type": "code",
   "execution_count": 37,
   "metadata": {},
   "outputs": [
    {
     "data": {
      "text/plain": [
       "(1156, 12)"
      ]
     },
     "execution_count": 37,
     "metadata": {},
     "output_type": "execute_result"
    }
   ],
   "source": [
    "returns_trimmed.shape"
   ]
  },
  {
   "cell_type": "code",
   "execution_count": 38,
   "metadata": {},
   "outputs": [
    {
     "data": {
      "text/plain": [
       "(1509, 12)"
      ]
     },
     "execution_count": 38,
     "metadata": {},
     "output_type": "execute_result"
    }
   ],
   "source": [
    "returns.shape"
   ]
  },
  {
   "cell_type": "code",
   "execution_count": 39,
   "metadata": {},
   "outputs": [],
   "source": [
    "#Standardize the returns\n",
    "returns_z = (returns_trimmed-returns_trimmed.mean())/returns_trimmed.std()"
   ]
  },
  {
   "cell_type": "code",
   "execution_count": 40,
   "metadata": {},
   "outputs": [
    {
     "data": {
      "text/plain": [
       "PCA()"
      ]
     },
     "execution_count": 40,
     "metadata": {},
     "output_type": "execute_result"
    }
   ],
   "source": [
    "#PCA\n",
    "X=returns_z.iloc[:,:-1]\n",
    "y=returns_z.iloc[:,-1]\n",
    "pca_corr = PCA()\n",
    "pca_corr.fit(X)"
   ]
  },
  {
   "cell_type": "code",
   "execution_count": 41,
   "metadata": {},
   "outputs": [
    {
     "data": {
      "text/plain": [
       "array([0.48182956, 0.75969165, 0.884291  , 0.92291606, 0.94180361,\n",
       "       0.95727033, 0.96917351, 0.97887381, 0.98711785, 0.99375751,\n",
       "       1.        ])"
      ]
     },
     "execution_count": 41,
     "metadata": {},
     "output_type": "execute_result"
    }
   ],
   "source": [
    "#Cummulative variance explained\n",
    "cum_ratio = pca.explained_variance_ratio_.cumsum()\n",
    "cum_ratio"
   ]
  },
  {
   "cell_type": "code",
   "execution_count": 42,
   "metadata": {},
   "outputs": [
    {
     "data": {
      "text/plain": [
       "(1156, 5)"
      ]
     },
     "execution_count": 42,
     "metadata": {},
     "output_type": "execute_result"
    }
   ],
   "source": [
    "#Transformm explanatory space into space of dim 5\n",
    "X_proj_corr = pca_corr.transform(X)\n",
    "X_proj_corr = X_proj_corr[:,:5]\n",
    "X_proj_corr.shape"
   ]
  },
  {
   "cell_type": "code",
   "execution_count": 43,
   "metadata": {},
   "outputs": [
    {
     "name": "stdout",
     "output_type": "stream",
     "text": [
      "intercept: 1.6004336129015414e-17\n",
      "coefs: [-0.43944437 -0.12305456  0.04946116  0.05278261 -0.11840806]\n",
      "score: 0.9792744193040864\n",
      "mse: 0.020707651992889358\n"
     ]
    }
   ],
   "source": [
    "#Fit Model to the data\n",
    "linreg_corr = LinearRegression()\n",
    "linreg_corr.fit(X_proj_corr,y)\n",
    "\n",
    "#Make Predictions\n",
    "predictions_corr = linreg_corr.predict(X_proj_corr)\n",
    "\n",
    "#Model Summary\n",
    "mse_corr = np.mean((predictions_corr-y)**2)\n",
    "print ('intercept:', linreg_corr.intercept_)\n",
    "print('coefs:', linreg_corr.coef_)\n",
    "print('score:', linreg_corr.score(X_proj_corr,y))\n",
    "print('mse:', mse_corr)"
   ]
  },
  {
   "cell_type": "markdown",
   "metadata": {},
   "source": [
    "## PCA - Covariance"
   ]
  },
  {
   "cell_type": "code",
   "execution_count": 44,
   "metadata": {},
   "outputs": [
    {
     "data": {
      "text/plain": [
       "PCA()"
      ]
     },
     "execution_count": 44,
     "metadata": {},
     "output_type": "execute_result"
    }
   ],
   "source": [
    "#PCA\n",
    "X=returns_trimmed.iloc[:,:-1]\n",
    "y=returns_trimmed.iloc[:,-1]\n",
    "pca = PCA()\n",
    "pca.fit(X)"
   ]
  },
  {
   "cell_type": "code",
   "execution_count": 45,
   "metadata": {},
   "outputs": [
    {
     "data": {
      "text/plain": [
       "array([0.41310135, 0.69951935, 0.83815699, 0.88599464, 0.91205009,\n",
       "       0.93359364, 0.95128146, 0.96638643, 0.97899705, 0.98993716,\n",
       "       1.        ])"
      ]
     },
     "execution_count": 45,
     "metadata": {},
     "output_type": "execute_result"
    }
   ],
   "source": [
    "cum_ratio = pca.explained_variance_ratio_.cumsum()\n",
    "cum_ratio"
   ]
  },
  {
   "cell_type": "code",
   "execution_count": 46,
   "metadata": {},
   "outputs": [
    {
     "data": {
      "text/plain": [
       "(1156, 5)"
      ]
     },
     "execution_count": 46,
     "metadata": {},
     "output_type": "execute_result"
    }
   ],
   "source": [
    "X_proj = pca.transform(X)\n",
    "X_proj = X_proj[:,:5]\n",
    "X_proj.shape"
   ]
  },
  {
   "cell_type": "code",
   "execution_count": 47,
   "metadata": {},
   "outputs": [
    {
     "name": "stdout",
     "output_type": "stream",
     "text": [
      "intercept: 0.0005394825521598332\n",
      "coefs: [-0.14902563 -0.10277525 -0.29672746  0.01342071 -0.10664301]\n",
      "score: 0.9839826514123542\n",
      "mse: 4.11991121464015e-07\n"
     ]
    }
   ],
   "source": [
    "#Fit Model to the data\n",
    "linreg = LinearRegression()\n",
    "linreg.fit(X_proj,y)\n",
    "\n",
    "#Make Predictions\n",
    "predictions = linreg.predict(X_proj)\n",
    "\n",
    "#Model Summary\n",
    "mse = np.mean((predictions-y)**2)\n",
    "print ('intercept:', linreg.intercept_)\n",
    "print('coefs:', linreg.coef_)\n",
    "print('score:', linreg.score(X_proj,y))\n",
    "print('mse:', mse)"
   ]
  },
  {
   "cell_type": "markdown",
   "metadata": {},
   "source": [
    "Removing the outliers seems to impact the model fit. Indeed the scores from the PCA regressions are reduced after removing the outliers and the fit is not as good."
   ]
  },
  {
   "cell_type": "markdown",
   "metadata": {},
   "source": [
    "What are the key differences in the methods between LASSO and PCA?\n",
    "\n",
    "\n",
    "Both methods try to reduce the dimension of the explanatory space. In the PCA, we select the directions of larger variance as these are considered to be the directions that have the largest explanatory power. These directions are combinations of the initial explanatory vectors and are therfore more difficult to interpret. On the contrary, the Lasso regressions conserves the original explanatory variables and applies a penalty to any extra variable added in the regression model. This ensure parsimony of the model."
   ]
  },
  {
   "cell_type": "markdown",
   "metadata": {},
   "source": [
    "Compare the model results.\n",
    "\n",
    "The lasso regression with 5 regressors gives an overall score of approximately 0.83. This is much lower from the results of any of the PCA regressions performed above (min score = 0. 98). Therefore the PCA seems to have a better performance than the LASSO. However, this performance comes with a cost in terms of interpretability of the results as the original regressors are not conserved."
   ]
  },
  {
   "cell_type": "markdown",
   "metadata": {},
   "source": [
    " ## Category 2 Models Trees and SVM"
   ]
  },
  {
   "cell_type": "markdown",
   "metadata": {},
   "source": [
    "### Regression Tree"
   ]
  },
  {
   "cell_type": "code",
   "execution_count": 48,
   "metadata": {},
   "outputs": [],
   "source": [
    "y = returns.iloc[:,-1]\n",
    "X = returns.iloc[:,:-1]"
   ]
  },
  {
   "cell_type": "code",
   "execution_count": 49,
   "metadata": {},
   "outputs": [
    {
     "data": {
      "image/png": "[encoded data removed]",
      "text/plain": [
       "<Figure size 1080x360 with 1 Axes>"
      ]
     },
     "metadata": {
      "needs_background": "light"
     },
     "output_type": "display_data"
    }
   ],
   "source": [
    "tree_depths = range(1,20)\n",
    "\n",
    "nmse_cv_scores = [] # negative mean square errors\n",
    "for depth in tree_depths:\n",
    "    tree_model = DecisionTreeRegressor(max_depth=depth)\n",
    "    cv_scores = cross_val_score(tree_model, X, y, cv=10, scoring='neg_mean_squared_error')\n",
    "    nmse_cv_scores.append(cv_scores.mean())\n",
    "\n",
    "# function for plotting cross-validation results\n",
    "def plot_cross_validation_on_trees(depths, accuracy_scores, title):\n",
    "    fig, ax = plt.subplots(1,1, figsize=(15,5))\n",
    "    ax.plot(depths, accuracy_scores, '-*', label='accuracy', alpha=0.9)\n",
    "    ax.set_title(title, fontsize=16)\n",
    "    ax.set_xlabel('Tree depth', fontsize=14)\n",
    "    ax.set_ylabel('Accuracy', fontsize=14)\n",
    "    ax.set_xticks(depths)\n",
    "    ax.legend()\n",
    "\n",
    "# plotting accuracy\n",
    "plot_cross_validation_on_trees(tree_depths,nmse_cv_scores, \n",
    "                               'Negative MSE per decision tree regressor depth')\n"
   ]
  },
  {
   "cell_type": "code",
   "execution_count": 50,
   "metadata": {},
   "outputs": [
    {
     "name": "stdout",
     "output_type": "stream",
     "text": [
      "r-squared: 0.8187759004242235\n"
     ]
    }
   ],
   "source": [
    "X_train, X_test, y_train, y_test = train_test_split(X, y, test_size=0.3)\n",
    "\n",
    "reg = DecisionTreeRegressor(max_depth=3).fit(X_train, y_train)\n",
    "print(\"r-squared:\", reg.score(X_test, y_test))"
   ]
  },
  {
   "cell_type": "markdown",
   "metadata": {},
   "source": [
    "### SVM"
   ]
  },
  {
   "cell_type": "code",
   "execution_count": 51,
   "metadata": {},
   "outputs": [
    {
     "name": "stderr",
     "output_type": "stream",
     "text": [
      "C:\\Users\\louis\\anaconda3\\lib\\site-packages\\sklearn\\svm\\_base.py:976: ConvergenceWarning: Liblinear failed to converge, increase the number of iterations.\n",
      "  warnings.warn(\"Liblinear failed to converge, increase \"\n"
     ]
    },
    {
     "data": {
      "text/plain": [
       "0.9915470941235984"
      ]
     },
     "execution_count": 51,
     "metadata": {},
     "output_type": "execute_result"
    }
   ],
   "source": [
    "regr = make_pipeline(StandardScaler(),LinearSVR(random_state=0, tol=1e-5))\n",
    "regr.fit(X, y).score(X,y)"
   ]
  },
  {
   "cell_type": "markdown",
   "metadata": {},
   "source": [
    "### Regression Tree - Trimmed data"
   ]
  },
  {
   "cell_type": "code",
   "execution_count": 52,
   "metadata": {},
   "outputs": [],
   "source": [
    "y = returns_trimmed.iloc[:,-1]\n",
    "X = returns_trimmed.iloc[:,:-1]"
   ]
  },
  {
   "cell_type": "code",
   "execution_count": 53,
   "metadata": {},
   "outputs": [
    {
     "data": {
      "image/png": "[encoded data removed]",
      "text/plain": [
       "<Figure size 1080x360 with 1 Axes>"
      ]
     },
     "metadata": {
      "needs_background": "light"
     },
     "output_type": "display_data"
    }
   ],
   "source": [
    "tree_depths = range(1,20)\n",
    "\n",
    "nmse_cv_scores = [] # negative mean square errors\n",
    "for depth in tree_depths:\n",
    "    tree_model = DecisionTreeRegressor(max_depth=depth)\n",
    "    cv_scores = cross_val_score(tree_model, X, y, cv=10, scoring='neg_mean_squared_error')\n",
    "    nmse_cv_scores.append(cv_scores.mean())\n",
    "\n",
    "# plotting accuracy\n",
    "plot_cross_validation_on_trees(tree_depths,nmse_cv_scores, \n",
    "                               'Negative MSE per decision tree regressor depth')\n"
   ]
  },
  {
   "cell_type": "code",
   "execution_count": 54,
   "metadata": {},
   "outputs": [
    {
     "name": "stdout",
     "output_type": "stream",
     "text": [
      "r-squared: 0.7581777557357531\n"
     ]
    }
   ],
   "source": [
    "X_train, X_test, y_train, y_test = train_test_split(X, y, test_size=0.3)\n",
    "\n",
    "reg = DecisionTreeRegressor(max_depth=3).fit(X_train, y_train)\n",
    "print(\"r-squared:\", reg.score(X_test, y_test))"
   ]
  },
  {
   "cell_type": "markdown",
   "metadata": {},
   "source": [
    "### SVM - Trimmed Data"
   ]
  },
  {
   "cell_type": "code",
   "execution_count": 55,
   "metadata": {},
   "outputs": [
    {
     "name": "stderr",
     "output_type": "stream",
     "text": [
      "C:\\Users\\louis\\anaconda3\\lib\\site-packages\\sklearn\\svm\\_base.py:976: ConvergenceWarning: Liblinear failed to converge, increase the number of iterations.\n",
      "  warnings.warn(\"Liblinear failed to converge, increase \"\n"
     ]
    },
    {
     "data": {
      "text/plain": [
       "0.9718236475126544"
      ]
     },
     "execution_count": 55,
     "metadata": {},
     "output_type": "execute_result"
    }
   ],
   "source": [
    "regr = make_pipeline(StandardScaler(),LinearSVR(random_state=0, tol=1e-5))\n",
    "regr.fit(X, y).score(X,y)"
   ]
  },
  {
   "cell_type": "markdown",
   "metadata": {},
   "source": [
    "What are the differences when you exclude the 5%?\n",
    "\n",
    "Similarly to with the LASSO and PCA regressions, the SVM and Regression Tree models are performing worse whe trimming the 5% outliers (the scores are lower)."
   ]
  },
  {
   "cell_type": "markdown",
   "metadata": {},
   "source": [
    "What are the key differences in the methods between CART and SVM?\n",
    "\n",
    "Both can be used in classification and regression tasks and can support numerical and categorical data. They are considered non-parametric, thus making no assumption on the distribution of data and the structure of the model. The core idea behind them is to separate the data in classes, reducing the dimension as they go. SVM actually separates the classes with a decision surface that maximizes the margin between the classes, while in a decision tree structure, each node makes a binary decision that separates either one class or some of the classes from the remaining classes.\n",
    "\n",
    "SVM uses kernels to turn linearly nonseparable problems into linearly separable, while decision trees split the input space into hyper-rectangles according to the target."
   ]
  },
  {
   "cell_type": "markdown",
   "metadata": {},
   "source": [
    "Compare the results of the models.\n",
    "\n",
    "The SVM model is performing better than the Regression Tree with an overall score of 0.99 against 0.81. However, such model is also less easily interpretable."
   ]
  },
  {
   "cell_type": "code",
   "execution_count": null,
   "metadata": {},
   "outputs": [],
   "source": []
  }
 ],
 "metadata": {
  "kernelspec": {
   "display_name": "Python 3",
   "language": "python",
   "name": "python3"
  },
  "language_info": {
   "codemirror_mode": {
    "name": "ipython",
    "version": 3
   },
   "file_extension": ".py",
   "mimetype": "text/x-python",
   "name": "python",
   "nbconvert_exporter": "python",
   "pygments_lexer": "ipython3",
   "version": "3.8.5"
  }
 },
 "nbformat": 4,
 "nbformat_minor": 4
}
